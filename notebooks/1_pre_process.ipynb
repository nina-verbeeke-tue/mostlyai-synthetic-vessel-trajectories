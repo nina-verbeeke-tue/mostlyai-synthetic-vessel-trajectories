{
 "cells": [
  {
   "cell_type": "code",
   "execution_count": 13,
   "metadata": {},
   "outputs": [],
   "source": [
    "import polars as pl\n",
    "import pickle\n",
    "import math"
   ]
  },
  {
   "cell_type": "code",
   "execution_count": 14,
   "metadata": {},
   "outputs": [],
   "source": [
    "my_path = r\"C:\\Users\\20222612\\Downloads\\data_AIS_Custom_01062021_30112021_CarFisHigMilPasPleSaiTan_600_99999999_0.pkl\""
   ]
  },
  {
   "cell_type": "code",
   "execution_count": 15,
   "metadata": {},
   "outputs": [],
   "source": [
    "max_traj = 5000 #TODO Remove"
   ]
  },
  {
   "cell_type": "markdown",
   "metadata": {},
   "source": [
    "# Flatten data"
   ]
  },
  {
   "cell_type": "markdown",
   "metadata": {},
   "source": [
    "### Read Pickle file"
   ]
  },
  {
   "cell_type": "code",
   "execution_count": 16,
   "metadata": {},
   "outputs": [],
   "source": [
    "trajectories = []\n",
    "\n",
    "with (open(my_path, \"rb\")) as openfile:\n",
    "    #TODO Remove max_traj\n",
    "    while True and len(trajectories) < max_traj:\n",
    "        try:\n",
    "            trajectories.append(pickle.load(openfile))\n",
    "        except EOFError:\n",
    "            break"
   ]
  },
  {
   "cell_type": "markdown",
   "metadata": {},
   "source": [
    "### Flatten data"
   ]
  },
  {
   "cell_type": "code",
   "execution_count": 17,
   "metadata": {},
   "outputs": [],
   "source": [
    "# Flatten the lists and create separate rows for each value\n",
    "flattened_data = []\n",
    "\n",
    "for index, entry in enumerate(trajectories, start=1):\n",
    "    traj_id = index\n",
    "    mmsi = entry['mmsi']\n",
    "    shiptype = entry['shiptype']\n",
    "    track_length = entry['track_length']\n",
    "    lat_values = entry['lat']\n",
    "    lon_values = entry['lon']\n",
    "    speed_values = entry['speed']\n",
    "    course_values = entry['course']\n",
    "    timestamp_values = entry['timestamp']\n",
    "    \n",
    "    for lat, lon, speed, course, timestamp in zip(lat_values, lon_values, speed_values, course_values, timestamp_values):\n",
    "        flattened_data.append({\n",
    "            'trajectory_id': traj_id, \n",
    "            'mmsi': mmsi,\n",
    "            'shiptype': shiptype,\n",
    "            'track_length': track_length,\n",
    "            'lat': float(lat),\n",
    "            'lon': float(lon),\n",
    "            'speed': float(speed),\n",
    "            'course': float(course),\n",
    "            'timestamp': int(timestamp)\n",
    "        })"
   ]
  },
  {
   "cell_type": "code",
   "execution_count": 18,
   "metadata": {},
   "outputs": [
    {
     "data": {
      "text/html": [
       "<div><style>\n",
       ".dataframe > thead > tr,\n",
       ".dataframe > tbody > tr {\n",
       "  text-align: right;\n",
       "  white-space: pre-wrap;\n",
       "}\n",
       "</style>\n",
       "<small>shape: (9_259_256, 9)</small><table border=\"1\" class=\"dataframe\"><thead><tr><th>trajectory_id</th><th>mmsi</th><th>shiptype</th><th>track_length</th><th>lat</th><th>lon</th><th>speed</th><th>course</th><th>timestamp</th></tr><tr><td>i64</td><td>i64</td><td>i64</td><td>i64</td><td>f64</td><td>f64</td><td>f64</td><td>f64</td><td>i64</td></tr></thead><tbody><tr><td>1</td><td>0</td><td>36</td><td>32</td><td>55.146145</td><td>15.110447</td><td>0.0</td><td>0.0</td><td>1626681097</td></tr><tr><td>1</td><td>0</td><td>36</td><td>32</td><td>55.146145</td><td>15.110447</td><td>0.0</td><td>0.0</td><td>1626681279</td></tr><tr><td>1</td><td>0</td><td>36</td><td>32</td><td>55.146145</td><td>15.110447</td><td>0.0</td><td>0.0</td><td>1626681462</td></tr><tr><td>1</td><td>0</td><td>36</td><td>32</td><td>55.146145</td><td>15.110447</td><td>0.0</td><td>0.0</td><td>1626681646</td></tr><tr><td>1</td><td>0</td><td>36</td><td>32</td><td>55.146145</td><td>15.110447</td><td>0.0</td><td>0.0</td><td>1626682008</td></tr><tr><td>&hellip;</td><td>&hellip;</td><td>&hellip;</td><td>&hellip;</td><td>&hellip;</td><td>&hellip;</td><td>&hellip;</td><td>&hellip;</td><td>&hellip;</td></tr><tr><td>5000</td><td>210095000</td><td>60</td><td>100</td><td>54.556833</td><td>13.9145</td><td>7.459444</td><td>330.0</td><td>1636258696</td></tr><tr><td>5000</td><td>210095000</td><td>60</td><td>100</td><td>54.557515</td><td>13.913878</td><td>7.562333</td><td>330.0</td><td>1636258707</td></tr><tr><td>5000</td><td>210095000</td><td>60</td><td>100</td><td>54.564587</td><td>13.906743</td><td>7.562333</td><td>330.0</td><td>1636258827</td></tr><tr><td>5000</td><td>210095000</td><td>60</td><td>100</td><td>54.5835</td><td>13.8875</td><td>7.562333</td><td>330.0</td><td>1636259152</td></tr><tr><td>5000</td><td>210095000</td><td>60</td><td>100</td><td>54.590833</td><td>13.88</td><td>7.665222</td><td>329.0</td><td>1636259278</td></tr></tbody></table></div>"
      ],
      "text/plain": [
       "shape: (9_259_256, 9)\n",
       "┌─────────────┬───────────┬──────────┬────────────┬───┬───────────┬──────────┬────────┬────────────┐\n",
       "│ trajectory_ ┆ mmsi      ┆ shiptype ┆ track_leng ┆ … ┆ lon       ┆ speed    ┆ course ┆ timestamp  │\n",
       "│ id          ┆ ---       ┆ ---      ┆ th         ┆   ┆ ---       ┆ ---      ┆ ---    ┆ ---        │\n",
       "│ ---         ┆ i64       ┆ i64      ┆ ---        ┆   ┆ f64       ┆ f64      ┆ f64    ┆ i64        │\n",
       "│ i64         ┆           ┆          ┆ i64        ┆   ┆           ┆          ┆        ┆            │\n",
       "╞═════════════╪═══════════╪══════════╪════════════╪═══╪═══════════╪══════════╪════════╪════════════╡\n",
       "│ 1           ┆ 0         ┆ 36       ┆ 32         ┆ … ┆ 15.110447 ┆ 0.0      ┆ 0.0    ┆ 1626681097 │\n",
       "│ 1           ┆ 0         ┆ 36       ┆ 32         ┆ … ┆ 15.110447 ┆ 0.0      ┆ 0.0    ┆ 1626681279 │\n",
       "│ 1           ┆ 0         ┆ 36       ┆ 32         ┆ … ┆ 15.110447 ┆ 0.0      ┆ 0.0    ┆ 1626681462 │\n",
       "│ 1           ┆ 0         ┆ 36       ┆ 32         ┆ … ┆ 15.110447 ┆ 0.0      ┆ 0.0    ┆ 1626681646 │\n",
       "│ 1           ┆ 0         ┆ 36       ┆ 32         ┆ … ┆ 15.110447 ┆ 0.0      ┆ 0.0    ┆ 1626682008 │\n",
       "│ …           ┆ …         ┆ …        ┆ …          ┆ … ┆ …         ┆ …        ┆ …      ┆ …          │\n",
       "│ 5000        ┆ 210095000 ┆ 60       ┆ 100        ┆ … ┆ 13.9145   ┆ 7.459444 ┆ 330.0  ┆ 1636258696 │\n",
       "│ 5000        ┆ 210095000 ┆ 60       ┆ 100        ┆ … ┆ 13.913878 ┆ 7.562333 ┆ 330.0  ┆ 1636258707 │\n",
       "│ 5000        ┆ 210095000 ┆ 60       ┆ 100        ┆ … ┆ 13.906743 ┆ 7.562333 ┆ 330.0  ┆ 1636258827 │\n",
       "│ 5000        ┆ 210095000 ┆ 60       ┆ 100        ┆ … ┆ 13.8875   ┆ 7.562333 ┆ 330.0  ┆ 1636259152 │\n",
       "│ 5000        ┆ 210095000 ┆ 60       ┆ 100        ┆ … ┆ 13.88     ┆ 7.665222 ┆ 329.0  ┆ 1636259278 │\n",
       "└─────────────┴───────────┴──────────┴────────────┴───┴───────────┴──────────┴────────┴────────────┘"
      ]
     },
     "execution_count": 18,
     "metadata": {},
     "output_type": "execute_result"
    }
   ],
   "source": [
    "df = pl.DataFrame(flattened_data)\n",
    "df"
   ]
  },
  {
   "cell_type": "markdown",
   "metadata": {},
   "source": [
    "# Filter data based on total distance"
   ]
  },
  {
   "cell_type": "code",
   "execution_count": 19,
   "metadata": {},
   "outputs": [],
   "source": [
    "def haversine(lat1, lon1, lat2, lon2):\n",
    "    R = 6371\n",
    "    phi1 = math.radians(lat1)\n",
    "    phi2 = math.radians(lat2)\n",
    "    delta_phi = math.radians(lat2 - lat1)\n",
    "    delta_lambda = math.radians(lon2 - lon1)\n",
    "    \n",
    "    a = math.sin(delta_phi / 2)**2 + math.cos(phi1) * math.cos(phi2) * math.sin(delta_lambda / 2)**2\n",
    "    c = 2 * math.atan2(math.sqrt(a), math.sqrt(1 - a))\n",
    "    \n",
    "    distance = R * c\n",
    "    return distance"
   ]
  },
  {
   "cell_type": "code",
   "execution_count": 20,
   "metadata": {},
   "outputs": [],
   "source": [
    "results = []\n",
    "\n",
    "for trajectory_id in df[\"trajectory_id\"].unique():\n",
    "    # Filter the DataFrame for the current trajectory_id\n",
    "    filtered_df = df.filter(df[\"trajectory_id\"] == trajectory_id)\n",
    "    \n",
    "    # Get the first and last row for the trajectory using indexing\n",
    "    first_row = filtered_df[0]  # First row\n",
    "    last_row = filtered_df[-1]  # Last row\n",
    "    \n",
    "    # Extract lat/lon values\n",
    "    lat1, lon1 = first_row[\"lat\"][0], first_row[\"lon\"][0]\n",
    "    lat2, lon2 = last_row[\"lat\"][0], last_row[\"lon\"][0]\n",
    "    \n",
    "    # Calculate the distance\n",
    "    distance = haversine(lat1, lon1, lat2, lon2)\n",
    "    \n",
    "    # Append the result\n",
    "    results.append({\"trajectory_id\": trajectory_id, \"distance_km\": distance})"
   ]
  },
  {
   "cell_type": "code",
   "execution_count": 21,
   "metadata": {},
   "outputs": [
    {
     "name": "stdout",
     "output_type": "stream",
     "text": [
      "shape: (4_404, 2)\n",
      "┌───────────────┬─────────────┐\n",
      "│ trajectory_id ┆ distance_km │\n",
      "│ ---           ┆ ---         │\n",
      "│ i64           ┆ f64         │\n",
      "╞═══════════════╪═════════════╡\n",
      "│ 8             ┆ 53.761694   │\n",
      "│ 9             ┆ 60.257592   │\n",
      "│ 10            ┆ 92.405714   │\n",
      "│ 11            ┆ 160.297479  │\n",
      "│ 24            ┆ 13.890478   │\n",
      "│ …             ┆ …           │\n",
      "│ 4996          ┆ 12.027523   │\n",
      "│ 4997          ┆ 13.779535   │\n",
      "│ 4998          ┆ 72.611602   │\n",
      "│ 4999          ┆ 109.323024  │\n",
      "│ 5000          ┆ 11.660215   │\n",
      "└───────────────┴─────────────┘\n"
     ]
    }
   ],
   "source": [
    "# Convert results to a Polars DataFrame\n",
    "distance_df = pl.DataFrame(results)\n",
    "\n",
    "# Show the result where distance_km > 10\n",
    "filtered_df = distance_df.filter(distance_df[\"distance_km\"] > 10)\n",
    "\n",
    "print(filtered_df)"
   ]
  },
  {
   "cell_type": "code",
   "execution_count": 22,
   "metadata": {},
   "outputs": [
    {
     "data": {
      "text/html": [
       "<div><style>\n",
       ".dataframe > thead > tr,\n",
       ".dataframe > tbody > tr {\n",
       "  text-align: right;\n",
       "  white-space: pre-wrap;\n",
       "}\n",
       "</style>\n",
       "<small>shape: (8_533_106, 10)</small><table border=\"1\" class=\"dataframe\"><thead><tr><th>trajectory_id</th><th>mmsi</th><th>shiptype</th><th>track_length</th><th>lat</th><th>lon</th><th>speed</th><th>course</th><th>timestamp</th><th>distance_km</th></tr><tr><td>i64</td><td>i64</td><td>i64</td><td>i64</td><td>f64</td><td>f64</td><td>f64</td><td>f64</td><td>i64</td><td>f64</td></tr></thead><tbody><tr><td>8</td><td>0</td><td>36</td><td>557</td><td>55.508922</td><td>15.458938</td><td>3.446778</td><td>193.199997</td><td>1628675992</td><td>53.761694</td></tr><tr><td>8</td><td>0</td><td>36</td><td>557</td><td>55.504283</td><td>15.45617</td><td>3.446778</td><td>207.100006</td><td>1628676146</td><td>53.761694</td></tr><tr><td>8</td><td>0</td><td>36</td><td>557</td><td>55.503398</td><td>15.455532</td><td>3.652555</td><td>202.899994</td><td>1628676175</td><td>53.761694</td></tr><tr><td>8</td><td>0</td><td>36</td><td>557</td><td>55.500105</td><td>15.452538</td><td>3.241</td><td>215.699997</td><td>1628676297</td><td>53.761694</td></tr><tr><td>8</td><td>0</td><td>36</td><td>557</td><td>55.50008</td><td>15.452507</td><td>3.343889</td><td>216.800003</td><td>1628676297</td><td>53.761694</td></tr><tr><td>&hellip;</td><td>&hellip;</td><td>&hellip;</td><td>&hellip;</td><td>&hellip;</td><td>&hellip;</td><td>&hellip;</td><td>&hellip;</td><td>&hellip;</td><td>&hellip;</td></tr><tr><td>5000</td><td>210095000</td><td>60</td><td>100</td><td>54.556833</td><td>13.9145</td><td>7.459444</td><td>330.0</td><td>1636258696</td><td>11.660215</td></tr><tr><td>5000</td><td>210095000</td><td>60</td><td>100</td><td>54.557515</td><td>13.913878</td><td>7.562333</td><td>330.0</td><td>1636258707</td><td>11.660215</td></tr><tr><td>5000</td><td>210095000</td><td>60</td><td>100</td><td>54.564587</td><td>13.906743</td><td>7.562333</td><td>330.0</td><td>1636258827</td><td>11.660215</td></tr><tr><td>5000</td><td>210095000</td><td>60</td><td>100</td><td>54.5835</td><td>13.8875</td><td>7.562333</td><td>330.0</td><td>1636259152</td><td>11.660215</td></tr><tr><td>5000</td><td>210095000</td><td>60</td><td>100</td><td>54.590833</td><td>13.88</td><td>7.665222</td><td>329.0</td><td>1636259278</td><td>11.660215</td></tr></tbody></table></div>"
      ],
      "text/plain": [
       "shape: (8_533_106, 10)\n",
       "┌────────────┬───────────┬──────────┬───────────┬───┬──────────┬───────────┬───────────┬───────────┐\n",
       "│ trajectory ┆ mmsi      ┆ shiptype ┆ track_len ┆ … ┆ speed    ┆ course    ┆ timestamp ┆ distance_ │\n",
       "│ _id        ┆ ---       ┆ ---      ┆ gth       ┆   ┆ ---      ┆ ---       ┆ ---       ┆ km        │\n",
       "│ ---        ┆ i64       ┆ i64      ┆ ---       ┆   ┆ f64      ┆ f64       ┆ i64       ┆ ---       │\n",
       "│ i64        ┆           ┆          ┆ i64       ┆   ┆          ┆           ┆           ┆ f64       │\n",
       "╞════════════╪═══════════╪══════════╪═══════════╪═══╪══════════╪═══════════╪═══════════╪═══════════╡\n",
       "│ 8          ┆ 0         ┆ 36       ┆ 557       ┆ … ┆ 3.446778 ┆ 193.19999 ┆ 162867599 ┆ 53.761694 │\n",
       "│            ┆           ┆          ┆           ┆   ┆          ┆ 7         ┆ 2         ┆           │\n",
       "│ 8          ┆ 0         ┆ 36       ┆ 557       ┆ … ┆ 3.446778 ┆ 207.10000 ┆ 162867614 ┆ 53.761694 │\n",
       "│            ┆           ┆          ┆           ┆   ┆          ┆ 6         ┆ 6         ┆           │\n",
       "│ 8          ┆ 0         ┆ 36       ┆ 557       ┆ … ┆ 3.652555 ┆ 202.89999 ┆ 162867617 ┆ 53.761694 │\n",
       "│            ┆           ┆          ┆           ┆   ┆          ┆ 4         ┆ 5         ┆           │\n",
       "│ 8          ┆ 0         ┆ 36       ┆ 557       ┆ … ┆ 3.241    ┆ 215.69999 ┆ 162867629 ┆ 53.761694 │\n",
       "│            ┆           ┆          ┆           ┆   ┆          ┆ 7         ┆ 7         ┆           │\n",
       "│ 8          ┆ 0         ┆ 36       ┆ 557       ┆ … ┆ 3.343889 ┆ 216.80000 ┆ 162867629 ┆ 53.761694 │\n",
       "│            ┆           ┆          ┆           ┆   ┆          ┆ 3         ┆ 7         ┆           │\n",
       "│ …          ┆ …         ┆ …        ┆ …         ┆ … ┆ …        ┆ …         ┆ …         ┆ …         │\n",
       "│ 5000       ┆ 210095000 ┆ 60       ┆ 100       ┆ … ┆ 7.459444 ┆ 330.0     ┆ 163625869 ┆ 11.660215 │\n",
       "│            ┆           ┆          ┆           ┆   ┆          ┆           ┆ 6         ┆           │\n",
       "│ 5000       ┆ 210095000 ┆ 60       ┆ 100       ┆ … ┆ 7.562333 ┆ 330.0     ┆ 163625870 ┆ 11.660215 │\n",
       "│            ┆           ┆          ┆           ┆   ┆          ┆           ┆ 7         ┆           │\n",
       "│ 5000       ┆ 210095000 ┆ 60       ┆ 100       ┆ … ┆ 7.562333 ┆ 330.0     ┆ 163625882 ┆ 11.660215 │\n",
       "│            ┆           ┆          ┆           ┆   ┆          ┆           ┆ 7         ┆           │\n",
       "│ 5000       ┆ 210095000 ┆ 60       ┆ 100       ┆ … ┆ 7.562333 ┆ 330.0     ┆ 163625915 ┆ 11.660215 │\n",
       "│            ┆           ┆          ┆           ┆   ┆          ┆           ┆ 2         ┆           │\n",
       "│ 5000       ┆ 210095000 ┆ 60       ┆ 100       ┆ … ┆ 7.665222 ┆ 329.0     ┆ 163625927 ┆ 11.660215 │\n",
       "│            ┆           ┆          ┆           ┆   ┆          ┆           ┆ 8         ┆           │\n",
       "└────────────┴───────────┴──────────┴───────────┴───┴──────────┴───────────┴───────────┴───────────┘"
      ]
     },
     "execution_count": 22,
     "metadata": {},
     "output_type": "execute_result"
    }
   ],
   "source": [
    "long_trajectories = df.join(filtered_df, on=\"trajectory_id\", how=\"inner\")\n",
    "long_trajectories"
   ]
  },
  {
   "cell_type": "markdown",
   "metadata": {},
   "source": [
    "# Clean data"
   ]
  },
  {
   "cell_type": "code",
   "execution_count": 23,
   "metadata": {},
   "outputs": [
    {
     "data": {
      "text/html": [
       "<div><style>\n",
       ".dataframe > thead > tr,\n",
       ".dataframe > tbody > tr {\n",
       "  text-align: right;\n",
       "  white-space: pre-wrap;\n",
       "}\n",
       "</style>\n",
       "<small>shape: (8_533_106, 4)</small><table border=\"1\" class=\"dataframe\"><thead><tr><th>POSITION_ID</th><th>POSITION_TRIP_ID</th><th>LATITUDE</th><th>LONGITUDE</th></tr><tr><td>u32</td><td>i64</td><td>f64</td><td>f64</td></tr></thead><tbody><tr><td>0</td><td>8</td><td>55.508922</td><td>15.458938</td></tr><tr><td>1</td><td>8</td><td>55.504283</td><td>15.45617</td></tr><tr><td>2</td><td>8</td><td>55.503398</td><td>15.455532</td></tr><tr><td>3</td><td>8</td><td>55.500105</td><td>15.452538</td></tr><tr><td>4</td><td>8</td><td>55.50008</td><td>15.452507</td></tr><tr><td>&hellip;</td><td>&hellip;</td><td>&hellip;</td><td>&hellip;</td></tr><tr><td>8533101</td><td>5000</td><td>54.556833</td><td>13.9145</td></tr><tr><td>8533102</td><td>5000</td><td>54.557515</td><td>13.913878</td></tr><tr><td>8533103</td><td>5000</td><td>54.564587</td><td>13.906743</td></tr><tr><td>8533104</td><td>5000</td><td>54.5835</td><td>13.8875</td></tr><tr><td>8533105</td><td>5000</td><td>54.590833</td><td>13.88</td></tr></tbody></table></div>"
      ],
      "text/plain": [
       "shape: (8_533_106, 4)\n",
       "┌─────────────┬──────────────────┬───────────┬───────────┐\n",
       "│ POSITION_ID ┆ POSITION_TRIP_ID ┆ LATITUDE  ┆ LONGITUDE │\n",
       "│ ---         ┆ ---              ┆ ---       ┆ ---       │\n",
       "│ u32         ┆ i64              ┆ f64       ┆ f64       │\n",
       "╞═════════════╪══════════════════╪═══════════╪═══════════╡\n",
       "│ 0           ┆ 8                ┆ 55.508922 ┆ 15.458938 │\n",
       "│ 1           ┆ 8                ┆ 55.504283 ┆ 15.45617  │\n",
       "│ 2           ┆ 8                ┆ 55.503398 ┆ 15.455532 │\n",
       "│ 3           ┆ 8                ┆ 55.500105 ┆ 15.452538 │\n",
       "│ 4           ┆ 8                ┆ 55.50008  ┆ 15.452507 │\n",
       "│ …           ┆ …                ┆ …         ┆ …         │\n",
       "│ 8533101     ┆ 5000             ┆ 54.556833 ┆ 13.9145   │\n",
       "│ 8533102     ┆ 5000             ┆ 54.557515 ┆ 13.913878 │\n",
       "│ 8533103     ┆ 5000             ┆ 54.564587 ┆ 13.906743 │\n",
       "│ 8533104     ┆ 5000             ┆ 54.5835   ┆ 13.8875   │\n",
       "│ 8533105     ┆ 5000             ┆ 54.590833 ┆ 13.88     │\n",
       "└─────────────┴──────────────────┴───────────┴───────────┘"
      ]
     },
     "execution_count": 23,
     "metadata": {},
     "output_type": "execute_result"
    }
   ],
   "source": [
    "df_positions_for_export = long_trajectories.with_row_index(\"POSITION_ID\")\n",
    "df_positions_for_export = df_positions_for_export.rename({\"trajectory_id\": \"POSITION_TRIP_ID\", \"mmsi\": \"VESSEL_ID\", \"shiptype\": \"SHIP_TYPE\", \"lat\": \"LATITUDE\", \"lon\": \"LONGITUDE\"})\n",
    "df_positions_for_export = df_positions_for_export.select([\"POSITION_ID\", \"POSITION_TRIP_ID\", \"LATITUDE\", \"LONGITUDE\"])\n",
    "df_positions_for_export.write_csv(\"input_data/denmark_positions.csv\")\n",
    "df_positions_for_export"
   ]
  },
  {
   "cell_type": "code",
   "execution_count": 24,
   "metadata": {},
   "outputs": [
    {
     "data": {
      "text/html": [
       "<div><style>\n",
       ".dataframe > thead > tr,\n",
       ".dataframe > tbody > tr {\n",
       "  text-align: right;\n",
       "  white-space: pre-wrap;\n",
       "}\n",
       "</style>\n",
       "<small>shape: (4_404, 1)</small><table border=\"1\" class=\"dataframe\"><thead><tr><th>POSITION_TRIP_ID</th></tr><tr><td>i64</td></tr></thead><tbody><tr><td>277</td></tr><tr><td>3421</td></tr><tr><td>3555</td></tr><tr><td>1325</td></tr><tr><td>2108</td></tr><tr><td>&hellip;</td></tr><tr><td>381</td></tr><tr><td>643</td></tr><tr><td>3138</td></tr><tr><td>1295</td></tr><tr><td>646</td></tr></tbody></table></div>"
      ],
      "text/plain": [
       "shape: (4_404, 1)\n",
       "┌──────────────────┐\n",
       "│ POSITION_TRIP_ID │\n",
       "│ ---              │\n",
       "│ i64              │\n",
       "╞══════════════════╡\n",
       "│ 277              │\n",
       "│ 3421             │\n",
       "│ 3555             │\n",
       "│ 1325             │\n",
       "│ 2108             │\n",
       "│ …                │\n",
       "│ 381              │\n",
       "│ 643              │\n",
       "│ 3138             │\n",
       "│ 1295             │\n",
       "│ 646              │\n",
       "└──────────────────┘"
      ]
     },
     "execution_count": 24,
     "metadata": {},
     "output_type": "execute_result"
    }
   ],
   "source": [
    "df_first = df_positions_for_export.unique(subset=[\"POSITION_TRIP_ID\"], keep=\"first\")\n",
    "df_first = df_first.select([\"POSITION_TRIP_ID\"])\n",
    "df_first.write_csv(\"input_data/denmark_trips.csv\")\n",
    "df_first"
   ]
  }
 ],
 "metadata": {
  "kernelspec": {
   "display_name": ".venv",
   "language": "python",
   "name": "python3"
  },
  "language_info": {
   "codemirror_mode": {
    "name": "ipython",
    "version": 3
   },
   "file_extension": ".py",
   "mimetype": "text/x-python",
   "name": "python",
   "nbconvert_exporter": "python",
   "pygments_lexer": "ipython3",
   "version": "3.13.2"
  }
 },
 "nbformat": 4,
 "nbformat_minor": 2
}
