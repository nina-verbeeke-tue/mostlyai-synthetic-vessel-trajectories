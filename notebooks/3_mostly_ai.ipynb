{
 "cells": [
  {
   "cell_type": "markdown",
   "id": "374aba06",
   "metadata": {
    "id": "374aba06"
   },
   "source": [
    "# MOSTLY AI"
   ]
  },
  {
   "cell_type": "markdown",
   "id": "fbd1ffc2",
   "metadata": {
    "id": "fbd1ffc2"
   },
   "source": [
    "## Installation"
   ]
  },
  {
   "cell_type": "markdown",
   "id": "fde33951",
   "metadata": {
    "id": "fde33951"
   },
   "source": [
    "Use `pip` (or preferably `uv pip`) to install the official `MostlyAI` package via PyPI. Python 3.10 or higher is required.  \n",
    "\n",
    "We use `mostlyai[local]` to install the LOCAL mode, which trains and generates synthetic data locally on our own compute resources.  \n",
    "\n",
    "After installing, you might need to restart your kernel"
   ]
  },
  {
   "cell_type": "code",
   "execution_count": 2,
   "id": "cddd0cc0-16aa-4229-8a05-d3257a1b0059",
   "metadata": {
    "ExecuteTime": {
     "end_time": "2025-03-14T12:43:22.937645Z",
     "start_time": "2025-03-14T12:43:22.934772Z"
    },
    "id": "cddd0cc0-16aa-4229-8a05-d3257a1b0059"
   },
   "outputs": [],
   "source": [
    "# %pip install 'mostlyai[local]'"
   ]
  },
  {
   "cell_type": "markdown",
   "id": "90b0e732-6bdd-4cc7-b922-d2bdea4a17de",
   "metadata": {
    "id": "90b0e732-6bdd-4cc7-b922-d2bdea4a17de"
   },
   "source": [
    "## Load Original Data\n",
    "\n",
    "Fetch some original data that will be used for training the generator."
   ]
  },
  {
   "cell_type": "code",
   "id": "8d020a5b230f0fcd",
   "metadata": {
    "id": "8d020a5b230f0fcd",
    "ExecuteTime": {
     "end_time": "2025-03-19T16:30:50.717057Z",
     "start_time": "2025-03-19T16:30:50.139629Z"
    }
   },
   "source": [
    "import pandas as pd"
   ],
   "outputs": [],
   "execution_count": 1
  },
  {
   "cell_type": "code",
   "id": "9dbdd979c6ee7d06",
   "metadata": {
    "id": "9dbdd979c6ee7d06",
    "ExecuteTime": {
     "end_time": "2025-03-19T16:30:52.471420Z",
     "start_time": "2025-03-19T16:30:52.129949Z"
    }
   },
   "source": [
    "positions_df = pd.read_csv(\"input_data/denmark_positions_downsampled.csv\")\n",
    "trips_df = pd.read_csv(\"input_data/denmark_trips_downsampled.csv\")"
   ],
   "outputs": [],
   "execution_count": 2
  },
  {
   "cell_type": "code",
   "id": "5d50142cd643b8b9",
   "metadata": {
    "colab": {
     "base_uri": "https://localhost:8080/",
     "height": 424
    },
    "id": "5d50142cd643b8b9",
    "outputId": "d7e8092c-fa5a-4b79-ca7f-a0bcd52ab6a0",
    "ExecuteTime": {
     "end_time": "2025-03-19T16:30:53.148645Z",
     "start_time": "2025-03-19T16:30:53.126004Z"
    }
   },
   "source": [
    "trips_df = trips_df[['TRIP_ID']]\n",
    "trips_df"
   ],
   "outputs": [
    {
     "data": {
      "text/plain": [
       "      TRIP_ID\n",
       "0           8\n",
       "1           9\n",
       "2          10\n",
       "3          11\n",
       "4          24\n",
       "...       ...\n",
       "4399     4996\n",
       "4400     4997\n",
       "4401     4998\n",
       "4402     4999\n",
       "4403     5000\n",
       "\n",
       "[4404 rows x 1 columns]"
      ],
      "text/html": [
       "<div>\n",
       "<style scoped>\n",
       "    .dataframe tbody tr th:only-of-type {\n",
       "        vertical-align: middle;\n",
       "    }\n",
       "\n",
       "    .dataframe tbody tr th {\n",
       "        vertical-align: top;\n",
       "    }\n",
       "\n",
       "    .dataframe thead th {\n",
       "        text-align: right;\n",
       "    }\n",
       "</style>\n",
       "<table border=\"1\" class=\"dataframe\">\n",
       "  <thead>\n",
       "    <tr style=\"text-align: right;\">\n",
       "      <th></th>\n",
       "      <th>TRIP_ID</th>\n",
       "    </tr>\n",
       "  </thead>\n",
       "  <tbody>\n",
       "    <tr>\n",
       "      <th>0</th>\n",
       "      <td>8</td>\n",
       "    </tr>\n",
       "    <tr>\n",
       "      <th>1</th>\n",
       "      <td>9</td>\n",
       "    </tr>\n",
       "    <tr>\n",
       "      <th>2</th>\n",
       "      <td>10</td>\n",
       "    </tr>\n",
       "    <tr>\n",
       "      <th>3</th>\n",
       "      <td>11</td>\n",
       "    </tr>\n",
       "    <tr>\n",
       "      <th>4</th>\n",
       "      <td>24</td>\n",
       "    </tr>\n",
       "    <tr>\n",
       "      <th>...</th>\n",
       "      <td>...</td>\n",
       "    </tr>\n",
       "    <tr>\n",
       "      <th>4399</th>\n",
       "      <td>4996</td>\n",
       "    </tr>\n",
       "    <tr>\n",
       "      <th>4400</th>\n",
       "      <td>4997</td>\n",
       "    </tr>\n",
       "    <tr>\n",
       "      <th>4401</th>\n",
       "      <td>4998</td>\n",
       "    </tr>\n",
       "    <tr>\n",
       "      <th>4402</th>\n",
       "      <td>4999</td>\n",
       "    </tr>\n",
       "    <tr>\n",
       "      <th>4403</th>\n",
       "      <td>5000</td>\n",
       "    </tr>\n",
       "  </tbody>\n",
       "</table>\n",
       "<p>4404 rows × 1 columns</p>\n",
       "</div>"
      ]
     },
     "execution_count": 3,
     "metadata": {},
     "output_type": "execute_result"
    }
   ],
   "execution_count": 3
  },
  {
   "cell_type": "code",
   "id": "d61e4c2c6d42f9c",
   "metadata": {
    "colab": {
     "base_uri": "https://localhost:8080/",
     "height": 424
    },
    "id": "d61e4c2c6d42f9c",
    "outputId": "791a120f-82ec-49bb-a2e7-536b0e383621",
    "ExecuteTime": {
     "end_time": "2025-03-19T16:30:53.904592Z",
     "start_time": "2025-03-19T16:30:53.887848Z"
    }
   },
   "source": [
    "positions_df = positions_df[['POSITION_ID', 'POSITION_TRIP_ID', 'LAT_LONG']]\n",
    "positions_df"
   ],
   "outputs": [
    {
     "data": {
      "text/plain": [
       "        POSITION_ID  POSITION_TRIP_ID              LAT_LONG\n",
       "0                 0                 8  55.508922, 15.458938\n",
       "1                 3                 8  55.500105, 15.452538\n",
       "2                 9                 8  55.492128, 15.444578\n",
       "3                14                 8   55.482085, 15.43882\n",
       "4                23                 8  55.471972, 15.432787\n",
       "...             ...               ...                   ...\n",
       "464300      8533070              5000  54.534398, 13.936615\n",
       "464301      8533086              5000    54.542833, 13.9285\n",
       "464302      8533096              5000   54.550905, 13.92056\n",
       "464303      8533103              5000  54.564587, 13.906743\n",
       "464304      8533104              5000      54.5835, 13.8875\n",
       "\n",
       "[464305 rows x 3 columns]"
      ],
      "text/html": [
       "<div>\n",
       "<style scoped>\n",
       "    .dataframe tbody tr th:only-of-type {\n",
       "        vertical-align: middle;\n",
       "    }\n",
       "\n",
       "    .dataframe tbody tr th {\n",
       "        vertical-align: top;\n",
       "    }\n",
       "\n",
       "    .dataframe thead th {\n",
       "        text-align: right;\n",
       "    }\n",
       "</style>\n",
       "<table border=\"1\" class=\"dataframe\">\n",
       "  <thead>\n",
       "    <tr style=\"text-align: right;\">\n",
       "      <th></th>\n",
       "      <th>POSITION_ID</th>\n",
       "      <th>POSITION_TRIP_ID</th>\n",
       "      <th>LAT_LONG</th>\n",
       "    </tr>\n",
       "  </thead>\n",
       "  <tbody>\n",
       "    <tr>\n",
       "      <th>0</th>\n",
       "      <td>0</td>\n",
       "      <td>8</td>\n",
       "      <td>55.508922, 15.458938</td>\n",
       "    </tr>\n",
       "    <tr>\n",
       "      <th>1</th>\n",
       "      <td>3</td>\n",
       "      <td>8</td>\n",
       "      <td>55.500105, 15.452538</td>\n",
       "    </tr>\n",
       "    <tr>\n",
       "      <th>2</th>\n",
       "      <td>9</td>\n",
       "      <td>8</td>\n",
       "      <td>55.492128, 15.444578</td>\n",
       "    </tr>\n",
       "    <tr>\n",
       "      <th>3</th>\n",
       "      <td>14</td>\n",
       "      <td>8</td>\n",
       "      <td>55.482085, 15.43882</td>\n",
       "    </tr>\n",
       "    <tr>\n",
       "      <th>4</th>\n",
       "      <td>23</td>\n",
       "      <td>8</td>\n",
       "      <td>55.471972, 15.432787</td>\n",
       "    </tr>\n",
       "    <tr>\n",
       "      <th>...</th>\n",
       "      <td>...</td>\n",
       "      <td>...</td>\n",
       "      <td>...</td>\n",
       "    </tr>\n",
       "    <tr>\n",
       "      <th>464300</th>\n",
       "      <td>8533070</td>\n",
       "      <td>5000</td>\n",
       "      <td>54.534398, 13.936615</td>\n",
       "    </tr>\n",
       "    <tr>\n",
       "      <th>464301</th>\n",
       "      <td>8533086</td>\n",
       "      <td>5000</td>\n",
       "      <td>54.542833, 13.9285</td>\n",
       "    </tr>\n",
       "    <tr>\n",
       "      <th>464302</th>\n",
       "      <td>8533096</td>\n",
       "      <td>5000</td>\n",
       "      <td>54.550905, 13.92056</td>\n",
       "    </tr>\n",
       "    <tr>\n",
       "      <th>464303</th>\n",
       "      <td>8533103</td>\n",
       "      <td>5000</td>\n",
       "      <td>54.564587, 13.906743</td>\n",
       "    </tr>\n",
       "    <tr>\n",
       "      <th>464304</th>\n",
       "      <td>8533104</td>\n",
       "      <td>5000</td>\n",
       "      <td>54.5835, 13.8875</td>\n",
       "    </tr>\n",
       "  </tbody>\n",
       "</table>\n",
       "<p>464305 rows × 3 columns</p>\n",
       "</div>"
      ]
     },
     "execution_count": 4,
     "metadata": {},
     "output_type": "execute_result"
    }
   ],
   "execution_count": 4
  },
  {
   "cell_type": "markdown",
   "id": "5768ab6d-c1d3-47f6-988b-4b2e9ccd743b",
   "metadata": {
    "id": "5768ab6d-c1d3-47f6-988b-4b2e9ccd743b"
   },
   "source": [
    "## Initialize the SDK\n",
    "\n"
   ]
  },
  {
   "cell_type": "code",
   "id": "1db0dd1c5bb6ccca",
   "metadata": {
    "colab": {
     "base_uri": "https://localhost:8080/",
     "height": 52
    },
    "id": "1db0dd1c5bb6ccca",
    "outputId": "fc10c28c-386e-446a-ed10-dac63eb07e29",
    "ExecuteTime": {
     "end_time": "2025-03-19T16:31:06.339391Z",
     "start_time": "2025-03-19T16:30:56.225264Z"
    }
   },
   "source": [
    "from mostlyai.sdk import MostlyAI\n",
    "\n",
    "# initialize SDK\n",
    "mostly = MostlyAI(local=True)"
   ],
   "outputs": [
    {
     "data": {
      "text/plain": [
       "Initializing \u001B[1mSynthetic Data SDK\u001B[0m \u001B[1;36m4.3\u001B[0m.\u001B[1;36m3\u001B[0m in \u001B[1mLOCAL mode\u001B[0m 🏠\n"
      ],
      "text/html": [
       "<pre style=\"white-space:pre;overflow-x:auto;line-height:normal;font-family:Menlo,'DejaVu Sans Mono',consolas,'Courier New',monospace\">Initializing <span style=\"font-weight: bold\">Synthetic Data SDK</span> <span style=\"color: #008080; text-decoration-color: #008080; font-weight: bold\">4.3</span>.<span style=\"color: #008080; text-decoration-color: #008080; font-weight: bold\">3</span> in <span style=\"font-weight: bold\">LOCAL mode</span> 🏠\n",
       "</pre>\n"
      ]
     },
     "metadata": {},
     "output_type": "display_data"
    },
    {
     "data": {
      "text/plain": [
       "Connected to \u001B]8;id=475288;file:///home/ninacv/mostlyai\u001B\\\u001B[4;38;5;27m/home/ninacv/\u001B[0m\u001B]8;;\u001B\\\u001B]8;id=462028;file:///home/ninacv/mostlyai\u001B\\\u001B[4;38;5;27mmostlyai\u001B[0m\u001B]8;;\u001B\\ with \u001B[1;36m15\u001B[0m GB RAM, \u001B[1;36m20\u001B[0m CPUs, 1x NVIDIA RTX A1000 6GB Laptop GPU available\n"
      ],
      "text/html": [
       "<pre style=\"white-space:pre;overflow-x:auto;line-height:normal;font-family:Menlo,'DejaVu Sans Mono',consolas,'Courier New',monospace\">Connected to <a href=\"file:///home/ninacv/mostlyai\" target=\"_blank\"><span style=\"color: #005fff; text-decoration-color: #005fff; text-decoration: underline\">/home/ninacv/mostlyai</span></a> with <span style=\"color: #008080; text-decoration-color: #008080; font-weight: bold\">15</span> GB RAM, <span style=\"color: #008080; text-decoration-color: #008080; font-weight: bold\">20</span> CPUs, 1x NVIDIA RTX A1000 6GB Laptop GPU available\n",
       "</pre>\n"
      ]
     },
     "metadata": {},
     "output_type": "display_data"
    }
   ],
   "execution_count": 5
  },
  {
   "cell_type": "markdown",
   "id": "a327631d949c6643",
   "metadata": {
    "id": "a327631d949c6643"
   },
   "source": [
    "## Train a Generator\n",
    "\n",
    "Train a synthetic data generator."
   ]
  },
  {
   "cell_type": "code",
   "id": "dfa36a8f2a851f35",
   "metadata": {
    "colab": {
     "base_uri": "https://localhost:8080/",
     "height": 630,
     "referenced_widgets": [
      "daa81bb5561b4b57802f93d3c0c6515f",
      "cc41170ce8c74882a4a60e8c254ebdd5"
     ]
    },
    "id": "dfa36a8f2a851f35",
    "outputId": "e5f22122-44d7-49a2-8f3e-3924a61a0203",
    "ExecuteTime": {
     "end_time": "2025-03-19T17:29:55.745115Z",
     "start_time": "2025-03-19T16:31:11.417412Z"
    }
   },
   "source": [
    "g = mostly.train(\n",
    "    config={\n",
    "        \"name\": \"Vessel Trip Generator\",\n",
    "        \"tables\": [\n",
    "            {\n",
    "                \"name\": \"trips\",\n",
    "                \"data\": trips_df,\n",
    "                \"tabular_model_configuration\": {\n",
    "                    # \"max_training_time\": 1,  # - limit training time (in minutes)\n",
    "                    \"model\": \"MOSTLY_AI/Large\",\n",
    "                },\n",
    "                \"primary_key\": \"TRIP_ID\",\n",
    "                \"columns\": [{\"name\": \"TRIP_ID\"}],\n",
    "            },\n",
    "            {\n",
    "                \"name\": \"positions\",\n",
    "                \"data\": positions_df,\n",
    "                \"tabular_model_configuration\": {\n",
    "                    # \"max_training_time\": 1,  # - limit training time (in minutes)\n",
    "                    \"model\": \"MOSTLY_AI/Large\"\n",
    "                },\n",
    "                \"columns\": [\n",
    "                    {\"name\": \"POSITION_ID\"},\n",
    "                    {\"name\": \"POSITION_TRIP_ID\"},\n",
    "                    {\n",
    "                        \"name\": \"LAT_LONG\",\n",
    "                        \"model_encoding_type\": \"TABULAR_LAT_LONG\",\n",
    "                    },\n",
    "                ],\n",
    "                \"primary_key\": \"POSITION_ID\",\n",
    "                \"foreign_keys\": [\n",
    "                    {\n",
    "                        \"column\": \"POSITION_TRIP_ID\",\n",
    "                        \"referenced_table\": \"trips\",\n",
    "                        \"is_context\": True,\n",
    "                    }\n",
    "                ],\n",
    "            },\n",
    "        ],\n",
    "    },\n",
    "    start=True,\n",
    "    wait=True\n",
    ")\n"
   ],
   "outputs": [
    {
     "data": {
      "text/plain": [
       "Created generator \u001B[38;5;27m7c646dbb-e525-416f-8c76-ef211aee7e9e\u001B[0m\n"
      ],
      "text/html": [
       "<pre style=\"white-space:pre;overflow-x:auto;line-height:normal;font-family:Menlo,'DejaVu Sans Mono',consolas,'Courier New',monospace\">Created generator <span style=\"color: #005fff; text-decoration-color: #005fff\">7c646dbb-e525-416f-8c76-ef211aee7e9e</span>\n",
       "</pre>\n"
      ]
     },
     "metadata": {},
     "output_type": "display_data"
    },
    {
     "data": {
      "text/plain": [
       "Started generator training\n"
      ],
      "text/html": [
       "<pre style=\"white-space:pre;overflow-x:auto;line-height:normal;font-family:Menlo,'DejaVu Sans Mono',consolas,'Courier New',monospace\">Started generator training\n",
       "</pre>\n"
      ]
     },
     "metadata": {},
     "output_type": "display_data"
    },
    {
     "data": {
      "text/plain": [
       "Output()"
      ],
      "application/vnd.jupyter.widget-view+json": {
       "version_major": 2,
       "version_minor": 0,
       "model_id": "1dd2a73e33554570aeb16dac2071ca04"
      }
     },
     "metadata": {},
     "output_type": "display_data"
    },
    {
     "name": "stderr",
     "output_type": "stream",
     "text": [
      "/home/ninacv/localmostly/.venv/lib/python3.12/site-packages/mostlyai/qa/_coherence.py:95: FutureWarning:\n",
      "\n",
      "The default of observed=False is deprecated and will be changed to True in a future version of pandas. Pass observed=False to retain current behavior or observed=True to adopt the future default and silence this warning.\n",
      "\n",
      "/home/ninacv/localmostly/.venv/lib/python3.12/site-packages/mostlyai/qa/_coherence.py:117: FutureWarning:\n",
      "\n",
      "The default of observed=False is deprecated and will be changed to True in a future version of pandas. Pass observed=False to retain current behavior or observed=True to adopt the future default and silence this warning.\n",
      "\n",
      "/home/ninacv/localmostly/.venv/lib/python3.12/site-packages/mostlyai/qa/_coherence.py:95: FutureWarning:\n",
      "\n",
      "The default of observed=False is deprecated and will be changed to True in a future version of pandas. Pass observed=False to retain current behavior or observed=True to adopt the future default and silence this warning.\n",
      "\n",
      "/home/ninacv/localmostly/.venv/lib/python3.12/site-packages/mostlyai/qa/_coherence.py:117: FutureWarning:\n",
      "\n",
      "The default of observed=False is deprecated and will be changed to True in a future version of pandas. Pass observed=False to retain current behavior or observed=True to adopt the future default and silence this warning.\n",
      "\n"
     ]
    },
    {
     "data": {
      "text/plain": [],
      "text/html": [
       "<pre style=\"white-space:pre;overflow-x:auto;line-height:normal;font-family:Menlo,'DejaVu Sans Mono',consolas,'Courier New',monospace\"></pre>\n"
      ]
     },
     "metadata": {},
     "output_type": "display_data"
    },
    {
     "data": {
      "text/plain": [
       "🎉 \u001B[1;32mYour generator is ready!\u001B[0m Use it to create synthetic data. Publish it so others can do the same.\n"
      ],
      "text/html": [
       "<pre style=\"white-space:pre;overflow-x:auto;line-height:normal;font-family:Menlo,'DejaVu Sans Mono',consolas,'Courier New',monospace\">🎉 <span style=\"color: #008000; text-decoration-color: #008000; font-weight: bold\">Your generator is ready!</span> Use it to create synthetic data. Publish it so others can do the same.\n",
       "</pre>\n"
      ]
     },
     "metadata": {},
     "output_type": "display_data"
    }
   ],
   "execution_count": 6
  },
  {
   "metadata": {},
   "cell_type": "markdown",
   "source": "### Export generator to file",
   "id": "5cd9fffdc1320ddb"
  },
  {
   "metadata": {},
   "cell_type": "markdown",
   "source": "You can export a generator to a ZIP archive with the `export_to_file()` method. The generator is exported as a ZIP archive.",
   "id": "91f1f473a70b82dd"
  },
  {
   "metadata": {},
   "cell_type": "code",
   "outputs": [],
   "execution_count": null,
   "source": "# g.export_to_file('generator/1903-denmark-generator.zip')",
   "id": "d436638a6c9ea26c"
  },
  {
   "metadata": {},
   "cell_type": "markdown",
   "source": [
    "## Generate Synthetic Data\n",
    "\n",
    "Probe the trained generator for 100 representative synthetic samples."
   ],
   "id": "5c9616425d4959a6"
  },
  {
   "cell_type": "code",
   "id": "e9f53af50c7084c7",
   "metadata": {
    "id": "e9f53af50c7084c7",
    "ExecuteTime": {
     "end_time": "2025-03-19T17:30:44.761509Z",
     "start_time": "2025-03-19T17:30:07.618914Z"
    }
   },
   "source": [
    "df_samples = mostly.probe(g, size=1000)\n",
    "df_samples"
   ],
   "outputs": [
    {
     "data": {
      "text/plain": [
       "{'trips':                                   TRIP_ID\n",
       " 0    mostly5d-6d29-4902-ba95-9c9895378da9\n",
       " 1    mostly89-cbef-4472-801a-22c5368e70a4\n",
       " 2    mostlye9-270a-4acc-a69f-6cdad9136f7a\n",
       " 3    mostly7c-84e9-4d56-9269-1ccb0fcaeb65\n",
       " 4    mostlyff-2249-463b-b280-aba831543d58\n",
       " ..                                    ...\n",
       " 995  mostly8d-1cbd-45e3-aa65-53b0436932c5\n",
       " 996  mostly62-0f88-48c4-b2ec-de3652d22720\n",
       " 997  mostlye2-1e31-4556-a0a7-a692adcf7c0d\n",
       " 998  mostlye6-e67c-49b1-8fcd-b3598e4c0f74\n",
       " 999  mostlyc7-ed2a-4fd2-81c2-1d9bfe972889\n",
       " \n",
       " [1000 rows x 1 columns],\n",
       " 'positions':                                  POSITION_ID  \\\n",
       " 0       mostlyde-9d6b-4eb9-bbd0-544d54eb8c9a   \n",
       " 1       mostly91-57da-4718-9535-12ded7968acd   \n",
       " 2       mostlyb6-3a89-44e9-a68b-efcfcef2fdc7   \n",
       " 3       mostly42-12f8-4281-83d2-f66eda5d6766   \n",
       " 4       mostly7f-816c-4b7e-b934-daac03c3909d   \n",
       " ...                                      ...   \n",
       " 105180  mostly56-b81c-4425-9a6d-0dac50b15267   \n",
       " 105181  mostly5a-6db5-4edd-816a-5483f8ae58be   \n",
       " 105182  mostlye3-2fb5-43ce-9236-e2425581ccf0   \n",
       " 105183  mostly5f-94ef-42a3-8d95-7ccacb7ba4d7   \n",
       " 105184  mostly0b-a0ac-47e8-80b2-b65e6ebfae3b   \n",
       " \n",
       "                             POSITION_TRIP_ID            LAT_LONG  \n",
       " 0       mostlyd8-7b96-469b-9321-2d1d5fbb2ba8  55.35888, 13.15236  \n",
       " 1       mostlydc-cf7b-4d3c-bea5-a88623c92c67  55.37030, 13.14911  \n",
       " 2       mostlye5-ebe3-4194-9b7a-9fc68b101a2a  55.67092, 15.98927  \n",
       " 3       mostlyf1-664e-4805-a078-33a00565c02b  54.82278, 13.57664  \n",
       " 4       mostlyb5-d233-4186-8542-aacfa801800e  54.87729, 13.52614  \n",
       " ...                                      ...                 ...  \n",
       " 105180  mostly9b-96cb-4cc3-a4fe-6a9bff241827  54.85081, 13.01383  \n",
       " 105181  mostlybf-504e-48bc-977e-6e0ff757dda6  54.51365, 14.17561  \n",
       " 105182  mostlyee-661c-43db-95d3-a08bf36c8cb4  54.78991, 13.10261  \n",
       " 105183  mostly18-1933-485d-8ec3-3f7be1a9ae32  54.85968, 13.01165  \n",
       " 105184  mostlyfc-e1fc-4d5f-9fc4-ed7b7d89999c  54.74822, 13.02887  \n",
       " \n",
       " [105185 rows x 3 columns]}"
      ]
     },
     "execution_count": 7,
     "metadata": {},
     "output_type": "execute_result"
    }
   ],
   "execution_count": 7
  },
  {
   "cell_type": "code",
   "id": "1c6b5c4068b475dc",
   "metadata": {
    "id": "1c6b5c4068b475dc",
    "ExecuteTime": {
     "end_time": "2025-03-19T17:30:49.336587Z",
     "start_time": "2025-03-19T17:30:49.328472Z"
    }
   },
   "source": [
    "syn_positions = df_samples[\"positions\"]\n",
    "syn_positions"
   ],
   "outputs": [
    {
     "data": {
      "text/plain": [
       "                                 POSITION_ID  \\\n",
       "0       mostlyde-9d6b-4eb9-bbd0-544d54eb8c9a   \n",
       "1       mostly91-57da-4718-9535-12ded7968acd   \n",
       "2       mostlyb6-3a89-44e9-a68b-efcfcef2fdc7   \n",
       "3       mostly42-12f8-4281-83d2-f66eda5d6766   \n",
       "4       mostly7f-816c-4b7e-b934-daac03c3909d   \n",
       "...                                      ...   \n",
       "105180  mostly56-b81c-4425-9a6d-0dac50b15267   \n",
       "105181  mostly5a-6db5-4edd-816a-5483f8ae58be   \n",
       "105182  mostlye3-2fb5-43ce-9236-e2425581ccf0   \n",
       "105183  mostly5f-94ef-42a3-8d95-7ccacb7ba4d7   \n",
       "105184  mostly0b-a0ac-47e8-80b2-b65e6ebfae3b   \n",
       "\n",
       "                            POSITION_TRIP_ID            LAT_LONG  \n",
       "0       mostlyd8-7b96-469b-9321-2d1d5fbb2ba8  55.35888, 13.15236  \n",
       "1       mostlydc-cf7b-4d3c-bea5-a88623c92c67  55.37030, 13.14911  \n",
       "2       mostlye5-ebe3-4194-9b7a-9fc68b101a2a  55.67092, 15.98927  \n",
       "3       mostlyf1-664e-4805-a078-33a00565c02b  54.82278, 13.57664  \n",
       "4       mostlyb5-d233-4186-8542-aacfa801800e  54.87729, 13.52614  \n",
       "...                                      ...                 ...  \n",
       "105180  mostly9b-96cb-4cc3-a4fe-6a9bff241827  54.85081, 13.01383  \n",
       "105181  mostlybf-504e-48bc-977e-6e0ff757dda6  54.51365, 14.17561  \n",
       "105182  mostlyee-661c-43db-95d3-a08bf36c8cb4  54.78991, 13.10261  \n",
       "105183  mostly18-1933-485d-8ec3-3f7be1a9ae32  54.85968, 13.01165  \n",
       "105184  mostlyfc-e1fc-4d5f-9fc4-ed7b7d89999c  54.74822, 13.02887  \n",
       "\n",
       "[105185 rows x 3 columns]"
      ],
      "text/html": [
       "<div>\n",
       "<style scoped>\n",
       "    .dataframe tbody tr th:only-of-type {\n",
       "        vertical-align: middle;\n",
       "    }\n",
       "\n",
       "    .dataframe tbody tr th {\n",
       "        vertical-align: top;\n",
       "    }\n",
       "\n",
       "    .dataframe thead th {\n",
       "        text-align: right;\n",
       "    }\n",
       "</style>\n",
       "<table border=\"1\" class=\"dataframe\">\n",
       "  <thead>\n",
       "    <tr style=\"text-align: right;\">\n",
       "      <th></th>\n",
       "      <th>POSITION_ID</th>\n",
       "      <th>POSITION_TRIP_ID</th>\n",
       "      <th>LAT_LONG</th>\n",
       "    </tr>\n",
       "  </thead>\n",
       "  <tbody>\n",
       "    <tr>\n",
       "      <th>0</th>\n",
       "      <td>mostlyde-9d6b-4eb9-bbd0-544d54eb8c9a</td>\n",
       "      <td>mostlyd8-7b96-469b-9321-2d1d5fbb2ba8</td>\n",
       "      <td>55.35888, 13.15236</td>\n",
       "    </tr>\n",
       "    <tr>\n",
       "      <th>1</th>\n",
       "      <td>mostly91-57da-4718-9535-12ded7968acd</td>\n",
       "      <td>mostlydc-cf7b-4d3c-bea5-a88623c92c67</td>\n",
       "      <td>55.37030, 13.14911</td>\n",
       "    </tr>\n",
       "    <tr>\n",
       "      <th>2</th>\n",
       "      <td>mostlyb6-3a89-44e9-a68b-efcfcef2fdc7</td>\n",
       "      <td>mostlye5-ebe3-4194-9b7a-9fc68b101a2a</td>\n",
       "      <td>55.67092, 15.98927</td>\n",
       "    </tr>\n",
       "    <tr>\n",
       "      <th>3</th>\n",
       "      <td>mostly42-12f8-4281-83d2-f66eda5d6766</td>\n",
       "      <td>mostlyf1-664e-4805-a078-33a00565c02b</td>\n",
       "      <td>54.82278, 13.57664</td>\n",
       "    </tr>\n",
       "    <tr>\n",
       "      <th>4</th>\n",
       "      <td>mostly7f-816c-4b7e-b934-daac03c3909d</td>\n",
       "      <td>mostlyb5-d233-4186-8542-aacfa801800e</td>\n",
       "      <td>54.87729, 13.52614</td>\n",
       "    </tr>\n",
       "    <tr>\n",
       "      <th>...</th>\n",
       "      <td>...</td>\n",
       "      <td>...</td>\n",
       "      <td>...</td>\n",
       "    </tr>\n",
       "    <tr>\n",
       "      <th>105180</th>\n",
       "      <td>mostly56-b81c-4425-9a6d-0dac50b15267</td>\n",
       "      <td>mostly9b-96cb-4cc3-a4fe-6a9bff241827</td>\n",
       "      <td>54.85081, 13.01383</td>\n",
       "    </tr>\n",
       "    <tr>\n",
       "      <th>105181</th>\n",
       "      <td>mostly5a-6db5-4edd-816a-5483f8ae58be</td>\n",
       "      <td>mostlybf-504e-48bc-977e-6e0ff757dda6</td>\n",
       "      <td>54.51365, 14.17561</td>\n",
       "    </tr>\n",
       "    <tr>\n",
       "      <th>105182</th>\n",
       "      <td>mostlye3-2fb5-43ce-9236-e2425581ccf0</td>\n",
       "      <td>mostlyee-661c-43db-95d3-a08bf36c8cb4</td>\n",
       "      <td>54.78991, 13.10261</td>\n",
       "    </tr>\n",
       "    <tr>\n",
       "      <th>105183</th>\n",
       "      <td>mostly5f-94ef-42a3-8d95-7ccacb7ba4d7</td>\n",
       "      <td>mostly18-1933-485d-8ec3-3f7be1a9ae32</td>\n",
       "      <td>54.85968, 13.01165</td>\n",
       "    </tr>\n",
       "    <tr>\n",
       "      <th>105184</th>\n",
       "      <td>mostly0b-a0ac-47e8-80b2-b65e6ebfae3b</td>\n",
       "      <td>mostlyfc-e1fc-4d5f-9fc4-ed7b7d89999c</td>\n",
       "      <td>54.74822, 13.02887</td>\n",
       "    </tr>\n",
       "  </tbody>\n",
       "</table>\n",
       "<p>105185 rows × 3 columns</p>\n",
       "</div>"
      ]
     },
     "execution_count": 8,
     "metadata": {},
     "output_type": "execute_result"
    }
   ],
   "execution_count": 8
  },
  {
   "cell_type": "code",
   "id": "d05383051e0cc5a5",
   "metadata": {
    "id": "d05383051e0cc5a5",
    "ExecuteTime": {
     "end_time": "2025-03-19T17:31:00.908554Z",
     "start_time": "2025-03-19T17:31:00.778859Z"
    }
   },
   "source": [
    "ps = pd.DataFrame(syn_positions)\n",
    "ps.to_csv(\"synthetic_data/denmark_syn_positions.csv\")"
   ],
   "outputs": [],
   "execution_count": 9
  },
  {
   "metadata": {},
   "cell_type": "code",
   "outputs": [],
   "execution_count": null,
   "source": [
    "# Splitting into latitude and longitude\n",
    "ps[['LATITUDE', 'LONGITUDE']] = ps['LAT_LONG'].str.split(', ', expand=True)\n",
    "\n",
    "# Convert to float\n",
    "ps['LATITUDE'] = ps['LATITUDE'].astype(float)\n",
    "ps['LONGITUDE'] = ps['LONGITUDE'].astype(float)\n",
    "\n",
    "ps.to_csv(\"synthetic_data/denmark_syn_positions.csv\")\n",
    "ps"
   ],
   "id": "3492e0503a0e6993"
  },
  {
   "metadata": {},
   "cell_type": "markdown",
   "source": "# Save and Load existing generator",
   "id": "504ab86dcac157fd"
  },
  {
   "metadata": {
    "ExecuteTime": {
     "end_time": "2025-03-20T08:33:54.897767Z",
     "start_time": "2025-03-20T08:33:44.995082Z"
    }
   },
   "cell_type": "code",
   "outputs": [
    {
     "data": {
      "text/plain": [
       "Initializing \u001B[1mSynthetic Data SDK\u001B[0m \u001B[1;36m4.3\u001B[0m.\u001B[1;36m3\u001B[0m in \u001B[1mLOCAL mode\u001B[0m 🏠\n"
      ],
      "text/html": [
       "<pre style=\"white-space:pre;overflow-x:auto;line-height:normal;font-family:Menlo,'DejaVu Sans Mono',consolas,'Courier New',monospace\">Initializing <span style=\"font-weight: bold\">Synthetic Data SDK</span> <span style=\"color: #008080; text-decoration-color: #008080; font-weight: bold\">4.3</span>.<span style=\"color: #008080; text-decoration-color: #008080; font-weight: bold\">3</span> in <span style=\"font-weight: bold\">LOCAL mode</span> 🏠\n",
       "</pre>\n"
      ]
     },
     "metadata": {},
     "output_type": "display_data"
    },
    {
     "data": {
      "text/plain": [
       "Connected to \u001B]8;id=141631;file:///home/ninacv/mostlyai\u001B\\\u001B[4;38;5;27m/home/ninacv/\u001B[0m\u001B]8;;\u001B\\\u001B]8;id=295887;file:///home/ninacv/mostlyai\u001B\\\u001B[4;38;5;27mmostlyai\u001B[0m\u001B]8;;\u001B\\ with \u001B[1;36m15\u001B[0m GB RAM, \u001B[1;36m20\u001B[0m CPUs, 1x NVIDIA RTX A1000 6GB Laptop GPU available\n"
      ],
      "text/html": [
       "<pre style=\"white-space:pre;overflow-x:auto;line-height:normal;font-family:Menlo,'DejaVu Sans Mono',consolas,'Courier New',monospace\">Connected to <a href=\"file:///home/ninacv/mostlyai\" target=\"_blank\"><span style=\"color: #005fff; text-decoration-color: #005fff; text-decoration: underline\">/home/ninacv/mostlyai</span></a> with <span style=\"color: #008080; text-decoration-color: #008080; font-weight: bold\">15</span> GB RAM, <span style=\"color: #008080; text-decoration-color: #008080; font-weight: bold\">20</span> CPUs, 1x NVIDIA RTX A1000 6GB Laptop GPU available\n",
       "</pre>\n"
      ]
     },
     "metadata": {},
     "output_type": "display_data"
    }
   ],
   "execution_count": 1,
   "source": [
    "from mostlyai.sdk import MostlyAI\n",
    "\n",
    "# initialize SDK\n",
    "mostly = MostlyAI(local=True)"
   ],
   "id": "be694dec7d261226"
  },
  {
   "metadata": {},
   "cell_type": "markdown",
   "source": "# Save and Load generators",
   "id": "abaea545880113b4"
  },
  {
   "metadata": {},
   "cell_type": "markdown",
   "source": "You can import a generator with the `import_from_file()` method.",
   "id": "ca879bb2bb46005f"
  },
  {
   "metadata": {},
   "cell_type": "code",
   "outputs": [],
   "execution_count": null,
   "source": "# g = mostly.generators.import_from_file('generator/1903-denmark-generator.zip')",
   "id": "672e58744fdece19"
  }
 ],
 "metadata": {
  "accelerator": "GPU",
  "colab": {
   "gpuType": "T4",
   "provenance": []
  },
  "kernelspec": {
   "display_name": "Python 3 (ipykernel)",
   "name": "python3",
   "language": "python"
  },
  "language_info": {
   "codemirror_mode": {
    "name": "ipython",
    "version": 3
   },
   "file_extension": ".py",
   "mimetype": "text/x-python",
   "name": "python",
   "nbconvert_exporter": "python",
   "pygments_lexer": "ipython3",
   "version": "3.13.2"
  },
  "widgets": {
   "application/vnd.jupyter.widget-state+json": {
    "daa81bb5561b4b57802f93d3c0c6515f": {
     "model_module": "@jupyter-widgets/output",
     "model_name": "OutputModel",
     "model_module_version": "1.0.0",
     "state": {
      "_dom_classes": [],
      "_model_module": "@jupyter-widgets/output",
      "_model_module_version": "1.0.0",
      "_model_name": "OutputModel",
      "_view_count": null,
      "_view_module": "@jupyter-widgets/output",
      "_view_module_version": "1.0.0",
      "_view_name": "OutputView",
      "layout": "IPY_MODEL_cc41170ce8c74882a4a60e8c254ebdd5",
      "msg_id": "",
      "outputs": [
       {
        "output_type": "display_data",
        "data": {
         "text/plain": "\u001B[1mOverall job progress\u001B[0m                                    \u001B[38;2;66;77;179m━━━━━━━━━━━━━━━━━━━━━━━━━━━━━━\u001B[0m\u001B[38;2;245;245;245m╺\u001B[0m\u001B[38;2;245;245;245m━━━━━━━━━\u001B[0m      \u001B[35m 75%\u001B[0m  \u001B[33m0:19:10\u001B[0m\nStep trips:tabular \u001B[38;2;128;128;128mPULL_TRAINING_DATA\u001B[0m                   \u001B[38;2;36;219;149m━━━━━━━━━━━━━━━━━━━━━━━━━━━━━━━━━━━━━━━━\u001B[0m      \u001B[35m100%\u001B[0m  \u001B[33m0:00:00\u001B[0m\nStep trips:tabular \u001B[38;2;128;128;128mANALYZE_TRAINING_DATA\u001B[0m                \u001B[38;2;36;219;149m━━━━━━━━━━━━━━━━━━━━━━━━━━━━━━━━━━━━━━━━\u001B[0m      \u001B[35m100%\u001B[0m  \u001B[33m0:00:00\u001B[0m\nStep trips:tabular \u001B[38;2;128;128;128mENCODE_TRAINING_DATA\u001B[0m                 \u001B[38;2;36;219;149m━━━━━━━━━━━━━━━━━━━━━━━━━━━━━━━━━━━━━━━━\u001B[0m      \u001B[35m100%\u001B[0m  \u001B[33m0:00:00\u001B[0m\nStep trips:tabular \u001B[38;2;128;128;128mTRAIN_MODEL 💎\u001B[0m                       \u001B[38;2;36;219;149m━━━━━━━━━━━━━━━━━━━━━━━━━━━━━━━━━━━━━━━━\u001B[0m      \u001B[35m100%\u001B[0m  \u001B[33m0:00:00\u001B[0m\nStep trips:tabular \u001B[38;2;128;128;128mGENERATE_MODEL_REPORT_DATA\u001B[0m           \u001B[38;2;36;219;149m━━━━━━━━━━━━━━━━━━━━━━━━━━━━━━━━━━━━━━━━\u001B[0m      \u001B[35m100%\u001B[0m  \u001B[33m0:00:00\u001B[0m\nStep trips:tabular \u001B[38;2;128;128;128mCREATE_MODEL_REPORT\u001B[0m                  \u001B[38;2;36;219;149m━━━━━━━━━━━━━━━━━━━━━━━━━━━━━━━━━━━━━━━━\u001B[0m      \u001B[35m100%\u001B[0m  \u001B[33m0:00:34\u001B[0m\nStep positions:tabular \u001B[38;2;128;128;128mPULL_TRAINING_DATA\u001B[0m               \u001B[38;2;36;219;149m━━━━━━━━━━━━━━━━━━━━━━━━━━━━━━━━━━━━━━━━\u001B[0m      \u001B[35m100%\u001B[0m  \u001B[33m0:00:08\u001B[0m\nStep positions:tabular \u001B[38;2;128;128;128mANALYZE_TRAINING_DATA\u001B[0m            \u001B[38;2;36;219;149m━━━━━━━━━━━━━━━━━━━━━━━━━━━━━━━━━━━━━━━━\u001B[0m      \u001B[35m100%\u001B[0m  \u001B[33m0:00:36\u001B[0m\nStep positions:tabular \u001B[38;2;128;128;128mENCODE_TRAINING_DATA\u001B[0m             \u001B[38;2;36;219;149m━━━━━━━━━━━━━━━━━━━━━━━━━━━━━━━━━━━━━━━━\u001B[0m      \u001B[35m100%\u001B[0m  \u001B[33m0:00:44\u001B[0m\nStep positions:tabular \u001B[38;2;128;128;128mTRAIN_MODEL 💎\u001B[0m                   \u001B[38;2;66;77;179m━━━━━━━\u001B[0m\u001B[38;2;66;77;179m╸\u001B[0m\u001B[38;2;245;245;245m━━━━━━━━━━━━━━━━━━━━━━━━━━━━━━━━\u001B[0m      \u001B[35m 19%\u001B[0m  \u001B[33m0:17:08\u001B[0m\nStep positions:tabular \u001B[38;2;128;128;128mGENERATE_MODEL_REPORT_DATA\u001B[0m       \u001B[38;2;245;245;245m━\u001B[0m\u001B[38;2;245;245;245m━\u001B[0m\u001B[38;2;245;245;245m━\u001B[0m\u001B[38;2;245;245;245m━\u001B[0m\u001B[38;2;245;245;245m━\u001B[0m\u001B[38;2;245;245;245m━\u001B[0m\u001B[38;2;245;245;245m━\u001B[0m\u001B[38;2;245;245;245m━\u001B[0m\u001B[38;2;245;245;245m━\u001B[0m\u001B[38;2;245;245;245m━\u001B[0m\u001B[38;2;245;245;245m━\u001B[0m\u001B[38;2;245;245;245m━\u001B[0m\u001B[38;2;245;245;245m━\u001B[0m\u001B[38;2;245;245;245m━\u001B[0m\u001B[38;2;245;245;245m━\u001B[0m\u001B[38;2;245;245;245m━\u001B[0m\u001B[38;2;245;245;245m━\u001B[0m\u001B[38;2;245;245;245m━\u001B[0m\u001B[38;2;245;245;245m━\u001B[0m\u001B[38;2;245;245;245m━\u001B[0m\u001B[38;2;245;245;245m━\u001B[0m\u001B[38;2;245;245;245m━\u001B[0m\u001B[38;2;245;245;245m━\u001B[0m\u001B[38;2;245;245;245m━\u001B[0m\u001B[38;2;245;245;245m━\u001B[0m\u001B[38;2;245;245;245m━\u001B[0m\u001B[38;2;245;245;245m━\u001B[0m\u001B[38;2;245;245;245m━\u001B[0m\u001B[38;2;245;245;245m━\u001B[0m\u001B[38;2;245;245;245m━\u001B[0m\u001B[38;2;245;245;245m━\u001B[0m\u001B[38;2;245;245;245m━\u001B[0m\u001B[38;2;245;245;245m━\u001B[0m\u001B[38;2;245;245;245m━\u001B[0m\u001B[38;2;245;245;245m━\u001B[0m\u001B[38;2;245;245;245m━\u001B[0m\u001B[38;2;245;245;245m━\u001B[0m\u001B[38;2;245;245;245m━\u001B[0m\u001B[38;2;245;245;245m━\u001B[0m\u001B[38;2;245;245;245m━\u001B[0m      \u001B[35m  0%\u001B[0m  \u001B[33m-:--:--\u001B[0m\nStep positions:tabular \u001B[38;2;128;128;128mCREATE_MODEL_REPORT\u001B[0m              \u001B[38;2;245;245;245m━\u001B[0m\u001B[38;2;245;245;245m━\u001B[0m\u001B[38;2;245;245;245m━\u001B[0m\u001B[38;2;245;245;245m━\u001B[0m\u001B[38;2;245;245;245m━\u001B[0m\u001B[38;2;245;245;245m━\u001B[0m\u001B[38;2;245;245;245m━\u001B[0m\u001B[38;2;245;245;245m━\u001B[0m\u001B[38;2;245;245;245m━\u001B[0m\u001B[38;2;245;245;245m━\u001B[0m\u001B[38;2;245;245;245m━\u001B[0m\u001B[38;2;245;245;245m━\u001B[0m\u001B[38;2;245;245;245m━\u001B[0m\u001B[38;2;245;245;245m━\u001B[0m\u001B[38;2;245;245;245m━\u001B[0m\u001B[38;2;245;245;245m━\u001B[0m\u001B[38;2;245;245;245m━\u001B[0m\u001B[38;2;245;245;245m━\u001B[0m\u001B[38;2;245;245;245m━\u001B[0m\u001B[38;2;245;245;245m━\u001B[0m\u001B[38;2;245;245;245m━\u001B[0m\u001B[38;2;245;245;245m━\u001B[0m\u001B[38;2;245;245;245m━\u001B[0m\u001B[38;2;245;245;245m━\u001B[0m\u001B[38;2;245;245;245m━\u001B[0m\u001B[38;2;245;245;245m━\u001B[0m\u001B[38;2;245;245;245m━\u001B[0m\u001B[38;2;245;245;245m━\u001B[0m\u001B[38;2;245;245;245m━\u001B[0m\u001B[38;2;245;245;245m━\u001B[0m\u001B[38;2;245;245;245m━\u001B[0m\u001B[38;2;245;245;245m━\u001B[0m\u001B[38;2;245;245;245m━\u001B[0m\u001B[38;2;245;245;245m━\u001B[0m\u001B[38;2;245;245;245m━\u001B[0m\u001B[38;2;245;245;245m━\u001B[0m\u001B[38;2;245;245;245m━\u001B[0m\u001B[38;2;245;245;245m━\u001B[0m\u001B[38;2;245;245;245m━\u001B[0m\u001B[38;2;245;245;245m━\u001B[0m      \u001B[35m  0%\u001B[0m  \u001B[33m-:--:--\u001B[0m\n                                                                                                                   \n                                                                                                                   \n                                                                                                                   \n\u001B[3m                                         Training log for `trips:tabular`                                          \u001B[0m\n                                                                                                                   \n                Epochs                  Samples                           Elapsed Time                   Val Loss  \n ───────────────────────────────────────────────────────────────────────────────────────────────────────────────── \n                                                                                                                   \n                                                                                                                   \n                                                                                                                   \n                                                                                                                   \n\u001B[3m                                       Training log for `positions:tabular`                                        \u001B[0m\n                                                                                                                   \n                Epochs                  Samples                           Elapsed Time                   Val Loss  \n ───────────────────────────────────────────────────────────────────────────────────────────────────────────────── \n \u001B[90m \u001B[0m\u001B[90m               11.00\u001B[0m\u001B[90m \u001B[0m \u001B[90m \u001B[0m\u001B[90m                43,196\u001B[0m\u001B[90m \u001B[0m \u001B[90m \u001B[0m\u001B[90m                                674s\u001B[0m\u001B[90m \u001B[0m \u001B[90m \u001B[0m\u001B[90m                 21.9690\u001B[0m\u001B[90m \u001B[0m \n \u001B[90m \u001B[0m\u001B[90m               12.00\u001B[0m\u001B[90m \u001B[0m \u001B[90m \u001B[0m\u001B[90m                47,122\u001B[0m\u001B[90m \u001B[0m \u001B[90m \u001B[0m\u001B[90m                                739s\u001B[0m\u001B[90m \u001B[0m \u001B[90m \u001B[0m\u001B[90m                 21.7041\u001B[0m\u001B[90m \u001B[0m \n \u001B[90m \u001B[0m\u001B[90m               13.00\u001B[0m\u001B[90m \u001B[0m \u001B[90m \u001B[0m\u001B[90m                51,048\u001B[0m\u001B[90m \u001B[0m \u001B[90m \u001B[0m\u001B[90m                                802s\u001B[0m\u001B[90m \u001B[0m \u001B[90m \u001B[0m\u001B[90m                 21.4941\u001B[0m\u001B[90m \u001B[0m \n \u001B[90m \u001B[0m\u001B[90m               14.00\u001B[0m\u001B[90m \u001B[0m \u001B[90m \u001B[0m\u001B[90m                54,974\u001B[0m\u001B[90m \u001B[0m \u001B[90m \u001B[0m\u001B[90m                                864s\u001B[0m\u001B[90m \u001B[0m \u001B[90m \u001B[0m\u001B[90m                 21.3327\u001B[0m\u001B[90m \u001B[0m \n \u001B[90m \u001B[0m\u001B[90m               15.00\u001B[0m\u001B[90m \u001B[0m \u001B[90m \u001B[0m\u001B[90m                58,900\u001B[0m\u001B[90m \u001B[0m \u001B[90m \u001B[0m\u001B[90m                                926s\u001B[0m\u001B[90m \u001B[0m \u001B[90m \u001B[0m\u001B[90m                 21.1703\u001B[0m\u001B[90m \u001B[0m \n \u001B[38;2;20;181;125;48;2;240;255;247m \u001B[0m\u001B[38;2;20;181;125;48;2;240;255;247m               16.00\u001B[0m\u001B[38;2;20;181;125;48;2;240;255;247m \u001B[0m\u001B[48;2;240;255;247m \u001B[0m\u001B[38;2;20;181;125;48;2;240;255;247m \u001B[0m\u001B[38;2;20;181;125;48;2;240;255;247m                62,826\u001B[0m\u001B[38;2;20;181;125;48;2;240;255;247m \u001B[0m\u001B[48;2;240;255;247m \u001B[0m\u001B[38;2;20;181;125;48;2;240;255;247m \u001B[0m\u001B[38;2;20;181;125;48;2;240;255;247m                                988s\u001B[0m\u001B[38;2;20;181;125;48;2;240;255;247m \u001B[0m\u001B[48;2;240;255;247m \u001B[0m\u001B[38;2;20;181;125;48;2;240;255;247m \u001B[0m\u001B[38;2;20;181;125;48;2;240;255;247m                 20.9852\u001B[0m\u001B[38;2;20;181;125;48;2;240;255;247m \u001B[0m \n                                                                                                                   \n",
         "text/html": "<pre style=\"white-space:pre;overflow-x:auto;line-height:normal;font-family:Menlo,'DejaVu Sans Mono',consolas,'Courier New',monospace\"><span style=\"font-weight: bold\">Overall job progress</span>                                    <span style=\"color: #424db3; text-decoration-color: #424db3\">━━━━━━━━━━━━━━━━━━━━━━━━━━━━━━</span><span style=\"color: #f5f5f5; text-decoration-color: #f5f5f5\">╺━━━━━━━━━</span>      <span style=\"color: #800080; text-decoration-color: #800080\"> 75%</span>  <span style=\"color: #808000; text-decoration-color: #808000\">0:19:10</span>\nStep trips:tabular <span style=\"color: #808080; text-decoration-color: #808080\">PULL_TRAINING_DATA</span>                   <span style=\"color: #24db95; text-decoration-color: #24db95\">━━━━━━━━━━━━━━━━━━━━━━━━━━━━━━━━━━━━━━━━</span>      <span style=\"color: #800080; text-decoration-color: #800080\">100%</span>  <span style=\"color: #808000; text-decoration-color: #808000\">0:00:00</span>\nStep trips:tabular <span style=\"color: #808080; text-decoration-color: #808080\">ANALYZE_TRAINING_DATA</span>                <span style=\"color: #24db95; text-decoration-color: #24db95\">━━━━━━━━━━━━━━━━━━━━━━━━━━━━━━━━━━━━━━━━</span>      <span style=\"color: #800080; text-decoration-color: #800080\">100%</span>  <span style=\"color: #808000; text-decoration-color: #808000\">0:00:00</span>\nStep trips:tabular <span style=\"color: #808080; text-decoration-color: #808080\">ENCODE_TRAINING_DATA</span>                 <span style=\"color: #24db95; text-decoration-color: #24db95\">━━━━━━━━━━━━━━━━━━━━━━━━━━━━━━━━━━━━━━━━</span>      <span style=\"color: #800080; text-decoration-color: #800080\">100%</span>  <span style=\"color: #808000; text-decoration-color: #808000\">0:00:00</span>\nStep trips:tabular <span style=\"color: #808080; text-decoration-color: #808080\">TRAIN_MODEL 💎</span>                       <span style=\"color: #24db95; text-decoration-color: #24db95\">━━━━━━━━━━━━━━━━━━━━━━━━━━━━━━━━━━━━━━━━</span>      <span style=\"color: #800080; text-decoration-color: #800080\">100%</span>  <span style=\"color: #808000; text-decoration-color: #808000\">0:00:00</span>\nStep trips:tabular <span style=\"color: #808080; text-decoration-color: #808080\">GENERATE_MODEL_REPORT_DATA</span>           <span style=\"color: #24db95; text-decoration-color: #24db95\">━━━━━━━━━━━━━━━━━━━━━━━━━━━━━━━━━━━━━━━━</span>      <span style=\"color: #800080; text-decoration-color: #800080\">100%</span>  <span style=\"color: #808000; text-decoration-color: #808000\">0:00:00</span>\nStep trips:tabular <span style=\"color: #808080; text-decoration-color: #808080\">CREATE_MODEL_REPORT</span>                  <span style=\"color: #24db95; text-decoration-color: #24db95\">━━━━━━━━━━━━━━━━━━━━━━━━━━━━━━━━━━━━━━━━</span>      <span style=\"color: #800080; text-decoration-color: #800080\">100%</span>  <span style=\"color: #808000; text-decoration-color: #808000\">0:00:34</span>\nStep positions:tabular <span style=\"color: #808080; text-decoration-color: #808080\">PULL_TRAINING_DATA</span>               <span style=\"color: #24db95; text-decoration-color: #24db95\">━━━━━━━━━━━━━━━━━━━━━━━━━━━━━━━━━━━━━━━━</span>      <span style=\"color: #800080; text-decoration-color: #800080\">100%</span>  <span style=\"color: #808000; text-decoration-color: #808000\">0:00:08</span>\nStep positions:tabular <span style=\"color: #808080; text-decoration-color: #808080\">ANALYZE_TRAINING_DATA</span>            <span style=\"color: #24db95; text-decoration-color: #24db95\">━━━━━━━━━━━━━━━━━━━━━━━━━━━━━━━━━━━━━━━━</span>      <span style=\"color: #800080; text-decoration-color: #800080\">100%</span>  <span style=\"color: #808000; text-decoration-color: #808000\">0:00:36</span>\nStep positions:tabular <span style=\"color: #808080; text-decoration-color: #808080\">ENCODE_TRAINING_DATA</span>             <span style=\"color: #24db95; text-decoration-color: #24db95\">━━━━━━━━━━━━━━━━━━━━━━━━━━━━━━━━━━━━━━━━</span>      <span style=\"color: #800080; text-decoration-color: #800080\">100%</span>  <span style=\"color: #808000; text-decoration-color: #808000\">0:00:44</span>\nStep positions:tabular <span style=\"color: #808080; text-decoration-color: #808080\">TRAIN_MODEL 💎</span>                   <span style=\"color: #424db3; text-decoration-color: #424db3\">━━━━━━━╸</span><span style=\"color: #f5f5f5; text-decoration-color: #f5f5f5\">━━━━━━━━━━━━━━━━━━━━━━━━━━━━━━━━</span>      <span style=\"color: #800080; text-decoration-color: #800080\"> 19%</span>  <span style=\"color: #808000; text-decoration-color: #808000\">0:17:08</span>\nStep positions:tabular <span style=\"color: #808080; text-decoration-color: #808080\">GENERATE_MODEL_REPORT_DATA</span>       <span style=\"color: #f5f5f5; text-decoration-color: #f5f5f5\">━━━━━━━━━━━━━━━━━━━━━━━━━━━━━━━━━━━━━━━━</span>      <span style=\"color: #800080; text-decoration-color: #800080\">  0%</span>  <span style=\"color: #808000; text-decoration-color: #808000\">-:--:--</span>\nStep positions:tabular <span style=\"color: #808080; text-decoration-color: #808080\">CREATE_MODEL_REPORT</span>              <span style=\"color: #f5f5f5; text-decoration-color: #f5f5f5\">━━━━━━━━━━━━━━━━━━━━━━━━━━━━━━━━━━━━━━━━</span>      <span style=\"color: #800080; text-decoration-color: #800080\">  0%</span>  <span style=\"color: #808000; text-decoration-color: #808000\">-:--:--</span>\n                                                                                                                   \n                                                                                                                   \n                                                                                                                   \n<span style=\"font-style: italic\">                                         Training log for `trips:tabular`                                          </span>\n                                                                                                                   \n                Epochs                  Samples                           Elapsed Time                   Val Loss  \n ───────────────────────────────────────────────────────────────────────────────────────────────────────────────── \n                                                                                                                   \n                                                                                                                   \n                                                                                                                   \n                                                                                                                   \n<span style=\"font-style: italic\">                                       Training log for `positions:tabular`                                        </span>\n                                                                                                                   \n                Epochs                  Samples                           Elapsed Time                   Val Loss  \n ───────────────────────────────────────────────────────────────────────────────────────────────────────────────── \n <span style=\"color: #808080; text-decoration-color: #808080\">                11.00 </span> <span style=\"color: #808080; text-decoration-color: #808080\">                 43,196 </span> <span style=\"color: #808080; text-decoration-color: #808080\">                                 674s </span> <span style=\"color: #808080; text-decoration-color: #808080\">                  21.9690 </span> \n <span style=\"color: #808080; text-decoration-color: #808080\">                12.00 </span> <span style=\"color: #808080; text-decoration-color: #808080\">                 47,122 </span> <span style=\"color: #808080; text-decoration-color: #808080\">                                 739s </span> <span style=\"color: #808080; text-decoration-color: #808080\">                  21.7041 </span> \n <span style=\"color: #808080; text-decoration-color: #808080\">                13.00 </span> <span style=\"color: #808080; text-decoration-color: #808080\">                 51,048 </span> <span style=\"color: #808080; text-decoration-color: #808080\">                                 802s </span> <span style=\"color: #808080; text-decoration-color: #808080\">                  21.4941 </span> \n <span style=\"color: #808080; text-decoration-color: #808080\">                14.00 </span> <span style=\"color: #808080; text-decoration-color: #808080\">                 54,974 </span> <span style=\"color: #808080; text-decoration-color: #808080\">                                 864s </span> <span style=\"color: #808080; text-decoration-color: #808080\">                  21.3327 </span> \n <span style=\"color: #808080; text-decoration-color: #808080\">                15.00 </span> <span style=\"color: #808080; text-decoration-color: #808080\">                 58,900 </span> <span style=\"color: #808080; text-decoration-color: #808080\">                                 926s </span> <span style=\"color: #808080; text-decoration-color: #808080\">                  21.1703 </span> \n <span style=\"color: #14b57d; text-decoration-color: #14b57d; background-color: #f0fff7\">                16.00 </span><span style=\"background-color: #f0fff7\"> </span><span style=\"color: #14b57d; text-decoration-color: #14b57d; background-color: #f0fff7\">                 62,826 </span><span style=\"background-color: #f0fff7\"> </span><span style=\"color: #14b57d; text-decoration-color: #14b57d; background-color: #f0fff7\">                                 988s </span><span style=\"background-color: #f0fff7\"> </span><span style=\"color: #14b57d; text-decoration-color: #14b57d; background-color: #f0fff7\">                  20.9852 </span> \n                                                                                                                   \n</pre>\n"
        },
        "metadata": {}
       }
      ],
      "tabbable": null,
      "tooltip": null
     }
    },
    "cc41170ce8c74882a4a60e8c254ebdd5": {
     "model_module": "@jupyter-widgets/base",
     "model_name": "LayoutModel",
     "model_module_version": "2.0.0",
     "state": {
      "_model_module": "@jupyter-widgets/base",
      "_model_module_version": "2.0.0",
      "_model_name": "LayoutModel",
      "_view_count": null,
      "_view_module": "@jupyter-widgets/base",
      "_view_module_version": "2.0.0",
      "_view_name": "LayoutView",
      "align_content": null,
      "align_items": null,
      "align_self": null,
      "border_bottom": null,
      "border_left": null,
      "border_right": null,
      "border_top": null,
      "bottom": null,
      "display": null,
      "flex": null,
      "flex_flow": null,
      "grid_area": null,
      "grid_auto_columns": null,
      "grid_auto_flow": null,
      "grid_auto_rows": null,
      "grid_column": null,
      "grid_gap": null,
      "grid_row": null,
      "grid_template_areas": null,
      "grid_template_columns": null,
      "grid_template_rows": null,
      "height": null,
      "justify_content": null,
      "justify_items": null,
      "left": null,
      "margin": null,
      "max_height": null,
      "max_width": null,
      "min_height": null,
      "min_width": null,
      "object_fit": null,
      "object_position": null,
      "order": null,
      "overflow": null,
      "padding": null,
      "right": null,
      "top": null,
      "visibility": null,
      "width": null
     }
    }
   }
  }
 },
 "nbformat": 4,
 "nbformat_minor": 5
}
