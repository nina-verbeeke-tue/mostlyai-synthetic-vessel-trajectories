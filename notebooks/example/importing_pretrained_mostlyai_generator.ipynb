{
  "nbformat": 4,
  "nbformat_minor": 0,
  "metadata": {
    "colab": {
      "provenance": [],
      "gpuType": "T4"
    },
    "kernelspec": {
      "name": "python3",
      "display_name": "Python 3"
    },
    "language_info": {
      "name": "python"
    },
    "accelerator": "GPU",
    "widgets": {
      "application/vnd.jupyter.widget-state+json": {
        "69e6c375e2b44670bf77d4301c2fe7d5": {
          "model_module": "@jupyter-widgets/output",
          "model_name": "OutputModel",
          "model_module_version": "1.0.0",
          "state": {
            "_dom_classes": [],
            "_model_module": "@jupyter-widgets/output",
            "_model_module_version": "1.0.0",
            "_model_name": "OutputModel",
            "_view_count": null,
            "_view_module": "@jupyter-widgets/output",
            "_view_module_version": "1.0.0",
            "_view_name": "OutputView",
            "layout": "IPY_MODEL_95b72562744d4184bfcac7a083117ba7",
            "msg_id": "",
            "outputs": [
              {
                "output_type": "display_data",
                "data": {
                  "text/plain": "\u001b[1mOverall job progress\u001b[0m                                    \u001b[38;2;36;219;149m━━━━━━━━━━━━━━━━━━━━━━━━━━━━━━━━━━━━━━━━\u001b[0m      \u001b[35m100%\u001b[0m  \u001b[33m0:01:38\u001b[0m\nStep trips:tabular \u001b[38;2;128;128;128mGENERATE_DATA_TABULAR\u001b[0m                \u001b[38;2;36;219;149m━━━━━━━━━━━━━━━━━━━━━━━━━━━━━━━━━━━━━━━━\u001b[0m      \u001b[35m100%\u001b[0m  \u001b[33m0:00:00\u001b[0m\nStep trips:tabular \u001b[38;2;128;128;128mCREATE_DATA_REPORT_TABULAR\u001b[0m           \u001b[38;2;36;219;149m━━━━━━━━━━━━━━━━━━━━━━━━━━━━━━━━━━━━━━━━\u001b[0m      \u001b[35m100%\u001b[0m  \u001b[33m0:00:30\u001b[0m\nStep positions:tabular \u001b[38;2;128;128;128mGENERATE_DATA_TABULAR\u001b[0m            \u001b[38;2;36;219;149m━━━━━━━━━━━━━━━━━━━━━━━━━━━━━━━━━━━━━━━━\u001b[0m      \u001b[35m100%\u001b[0m  \u001b[33m0:00:36\u001b[0m\nStep positions:tabular \u001b[38;2;128;128;128mCREATE_DATA_REPORT_TABULAR\u001b[0m       \u001b[38;2;36;219;149m━━━━━━━━━━━━━━━━━━━━━━━━━━━━━━━━━━━━━━━━\u001b[0m      \u001b[35m100%\u001b[0m  \u001b[33m0:00:22\u001b[0m\nStep common \u001b[38;2;128;128;128mFINALIZE_GENERATION\u001b[0m                         \u001b[38;2;36;219;149m━━━━━━━━━━━━━━━━━━━━━━━━━━━━━━━━━━━━━━━━\u001b[0m      \u001b[35m100%\u001b[0m  \u001b[33m0:00:04\u001b[0m\nStep common \u001b[38;2;128;128;128mDELIVER_DATA\u001b[0m                                \u001b[38;2;36;219;149m━━━━━━━━━━━━━━━━━━━━━━━━━━━━━━━━━━━━━━━━\u001b[0m      \u001b[35m100%\u001b[0m  \u001b[33m0:00:00\u001b[0m\n",
                  "text/html": "<pre style=\"white-space:pre;overflow-x:auto;line-height:normal;font-family:Menlo,'DejaVu Sans Mono',consolas,'Courier New',monospace\"><span style=\"font-weight: bold\">Overall job progress</span>                                    <span style=\"color: #24db95; text-decoration-color: #24db95\">━━━━━━━━━━━━━━━━━━━━━━━━━━━━━━━━━━━━━━━━</span>      <span style=\"color: #800080; text-decoration-color: #800080\">100%</span>  <span style=\"color: #808000; text-decoration-color: #808000\">0:01:38</span>\nStep trips:tabular <span style=\"color: #808080; text-decoration-color: #808080\">GENERATE_DATA_TABULAR</span>                <span style=\"color: #24db95; text-decoration-color: #24db95\">━━━━━━━━━━━━━━━━━━━━━━━━━━━━━━━━━━━━━━━━</span>      <span style=\"color: #800080; text-decoration-color: #800080\">100%</span>  <span style=\"color: #808000; text-decoration-color: #808000\">0:00:00</span>\nStep trips:tabular <span style=\"color: #808080; text-decoration-color: #808080\">CREATE_DATA_REPORT_TABULAR</span>           <span style=\"color: #24db95; text-decoration-color: #24db95\">━━━━━━━━━━━━━━━━━━━━━━━━━━━━━━━━━━━━━━━━</span>      <span style=\"color: #800080; text-decoration-color: #800080\">100%</span>  <span style=\"color: #808000; text-decoration-color: #808000\">0:00:30</span>\nStep positions:tabular <span style=\"color: #808080; text-decoration-color: #808080\">GENERATE_DATA_TABULAR</span>            <span style=\"color: #24db95; text-decoration-color: #24db95\">━━━━━━━━━━━━━━━━━━━━━━━━━━━━━━━━━━━━━━━━</span>      <span style=\"color: #800080; text-decoration-color: #800080\">100%</span>  <span style=\"color: #808000; text-decoration-color: #808000\">0:00:36</span>\nStep positions:tabular <span style=\"color: #808080; text-decoration-color: #808080\">CREATE_DATA_REPORT_TABULAR</span>       <span style=\"color: #24db95; text-decoration-color: #24db95\">━━━━━━━━━━━━━━━━━━━━━━━━━━━━━━━━━━━━━━━━</span>      <span style=\"color: #800080; text-decoration-color: #800080\">100%</span>  <span style=\"color: #808000; text-decoration-color: #808000\">0:00:22</span>\nStep common <span style=\"color: #808080; text-decoration-color: #808080\">FINALIZE_GENERATION</span>                         <span style=\"color: #24db95; text-decoration-color: #24db95\">━━━━━━━━━━━━━━━━━━━━━━━━━━━━━━━━━━━━━━━━</span>      <span style=\"color: #800080; text-decoration-color: #800080\">100%</span>  <span style=\"color: #808000; text-decoration-color: #808000\">0:00:04</span>\nStep common <span style=\"color: #808080; text-decoration-color: #808080\">DELIVER_DATA</span>                                <span style=\"color: #24db95; text-decoration-color: #24db95\">━━━━━━━━━━━━━━━━━━━━━━━━━━━━━━━━━━━━━━━━</span>      <span style=\"color: #800080; text-decoration-color: #800080\">100%</span>  <span style=\"color: #808000; text-decoration-color: #808000\">0:00:00</span>\n</pre>\n"
                },
                "metadata": {}
              }
            ],
            "tabbable": null,
            "tooltip": null
          }
        },
        "95b72562744d4184bfcac7a083117ba7": {
          "model_module": "@jupyter-widgets/base",
          "model_name": "LayoutModel",
          "model_module_version": "2.0.0",
          "state": {
            "_model_module": "@jupyter-widgets/base",
            "_model_module_version": "2.0.0",
            "_model_name": "LayoutModel",
            "_view_count": null,
            "_view_module": "@jupyter-widgets/base",
            "_view_module_version": "2.0.0",
            "_view_name": "LayoutView",
            "align_content": null,
            "align_items": null,
            "align_self": null,
            "border_bottom": null,
            "border_left": null,
            "border_right": null,
            "border_top": null,
            "bottom": null,
            "display": null,
            "flex": null,
            "flex_flow": null,
            "grid_area": null,
            "grid_auto_columns": null,
            "grid_auto_flow": null,
            "grid_auto_rows": null,
            "grid_column": null,
            "grid_gap": null,
            "grid_row": null,
            "grid_template_areas": null,
            "grid_template_columns": null,
            "grid_template_rows": null,
            "height": null,
            "justify_content": null,
            "justify_items": null,
            "left": null,
            "margin": null,
            "max_height": null,
            "max_width": null,
            "min_height": null,
            "min_width": null,
            "object_fit": null,
            "object_position": null,
            "order": null,
            "overflow": null,
            "padding": null,
            "right": null,
            "top": null,
            "visibility": null,
            "width": null
          }
        }
      }
    }
  },
  "cells": [
    {
      "cell_type": "markdown",
      "source": [
        "# Importing and Using a Pre-Trained MOSTLY AI Generator\n",
        "\n",
        "***This notebook provides code to import a pre-trained generator in MOSTLY AI and use it to generate synthetic data.***"
      ],
      "metadata": {
        "id": "r43OECYXwLJC"
      }
    },
    {
      "cell_type": "markdown",
      "source": [
        "## Install MOSTLY AI"
      ],
      "metadata": {
        "id": "CEoF8ctkpHOF"
      }
    },
    {
      "cell_type": "code",
      "source": [
        "%pip install 'mostlyai[local]' -q"
      ],
      "metadata": {
        "id": "ps-8QCFbnUdG"
      },
      "execution_count": null,
      "outputs": []
    },
    {
      "cell_type": "markdown",
      "source": [
        "## Download existing trained Generator"
      ],
      "metadata": {
        "id": "xkcPCyuDpNp2"
      }
    },
    {
      "cell_type": "markdown",
      "source": [
        "MOSTLY AI allows to export trained generators from one environment and import them into another. A generator has already been trained and uploaded to GitHub. Now, we can import and use this generator. Since the generator is stored as a ZIP file in GitHub, we first need to download the ZIP file."
      ],
      "metadata": {
        "id": "iazVhS1Puutn"
      }
    },
    {
      "cell_type": "code",
      "source": [
        "!wget -q https://github.com/nina-verbeeke-tue/mostlyai-synthetic-vessel-trajectories/raw/refs/heads/main/generator/1903-denmark-generator.zip"
      ],
      "metadata": {
        "colab": {
          "base_uri": "https://localhost:8080/"
        },
        "id": "GUMfk8iAo0_O",
        "outputId": "edf456f9-7118-4066-f5b1-28735109d715"
      },
      "execution_count": 21,
      "outputs": [
        {
          "output_type": "stream",
          "name": "stdout",
          "text": [
            "--2025-03-24 10:35:04--  https://github.com/nina-verbeeke-tue/mostlyai-synthetic-vessel-trajectories/raw/refs/heads/main/generator/1903-denmark-generator.zip\n",
            "Resolving github.com (github.com)... 140.82.116.4\n",
            "Connecting to github.com (github.com)|140.82.116.4|:443... connected.\n",
            "HTTP request sent, awaiting response... 302 Found\n",
            "Location: https://media.githubusercontent.com/media/nina-verbeeke-tue/mostlyai-synthetic-vessel-trajectories/refs/heads/main/generator/1903-denmark-generator.zip [following]\n",
            "--2025-03-24 10:35:04--  https://media.githubusercontent.com/media/nina-verbeeke-tue/mostlyai-synthetic-vessel-trajectories/refs/heads/main/generator/1903-denmark-generator.zip\n",
            "Resolving media.githubusercontent.com (media.githubusercontent.com)... 185.199.108.133, 185.199.109.133, 185.199.110.133, ...\n",
            "Connecting to media.githubusercontent.com (media.githubusercontent.com)|185.199.108.133|:443... connected.\n",
            "HTTP request sent, awaiting response... 200 OK\n",
            "Length: 484090810 (462M) [application/zip]\n",
            "Saving to: ‘1903-denmark-generator.zip’\n",
            "\n",
            "1903-denmark-genera 100%[===================>] 461.66M  67.2MB/s    in 6.2s    \n",
            "\n",
            "2025-03-24 10:35:18 (74.1 MB/s) - ‘1903-denmark-generator.zip’ saved [484090810/484090810]\n",
            "\n"
          ]
        }
      ]
    },
    {
      "cell_type": "markdown",
      "source": [
        "## Initialize MOSTLY AI and Import the pre-trained generator"
      ],
      "metadata": {
        "id": "favRdDp1pLaY"
      }
    },
    {
      "cell_type": "code",
      "source": [
        "from mostlyai.sdk import MostlyAI\n",
        "import pandas as pd\n",
        "\n",
        "# Initialize MOSTLY AI SDK\n",
        "mostly = MostlyAI(local=True)"
      ],
      "metadata": {
        "colab": {
          "base_uri": "https://localhost:8080/",
          "height": 52
        },
        "id": "qfZPl5uLpcqE",
        "outputId": "6fd2a93e-176f-43cc-9732-ae06d7b7350f"
      },
      "execution_count": 22,
      "outputs": [
        {
          "output_type": "display_data",
          "data": {
            "text/plain": [
              "Initializing \u001b[1mSynthetic Data SDK\u001b[0m \u001b[1;36m4.4\u001b[0m.\u001b[1;36m2\u001b[0m in \u001b[1mLOCAL mode\u001b[0m 🏠\n"
            ],
            "text/html": [
              "<pre style=\"white-space:pre;overflow-x:auto;line-height:normal;font-family:Menlo,'DejaVu Sans Mono',consolas,'Courier New',monospace\">Initializing <span style=\"font-weight: bold\">Synthetic Data SDK</span> <span style=\"color: #008080; text-decoration-color: #008080; font-weight: bold\">4.4</span>.<span style=\"color: #008080; text-decoration-color: #008080; font-weight: bold\">2</span> in <span style=\"font-weight: bold\">LOCAL mode</span> 🏠\n",
              "</pre>\n"
            ]
          },
          "metadata": {}
        },
        {
          "output_type": "display_data",
          "data": {
            "text/plain": [
              "Connected to \u001b]8;id=706281;file:///root/mostlyai\u001b\\\u001b[4;38;5;27m/root/\u001b[0m\u001b]8;;\u001b\\\u001b]8;id=5244;file:///root/mostlyai\u001b\\\u001b[4;38;5;27mmostlyai\u001b[0m\u001b]8;;\u001b\\ with \u001b[1;36m13\u001b[0m GB RAM, \u001b[1;36m2\u001b[0m CPUs, 1x Tesla T4 available\n"
            ],
            "text/html": [
              "<pre style=\"white-space:pre;overflow-x:auto;line-height:normal;font-family:Menlo,'DejaVu Sans Mono',consolas,'Courier New',monospace\">Connected to <a href=\"file:///root/mostlyai\" target=\"_blank\"><span style=\"color: #005fff; text-decoration-color: #005fff; text-decoration: underline\">/root/mostlyai</span></a> with <span style=\"color: #008080; text-decoration-color: #008080; font-weight: bold\">13</span> GB RAM, <span style=\"color: #008080; text-decoration-color: #008080; font-weight: bold\">2</span> CPUs, 1x Tesla T4 available\n",
              "</pre>\n"
            ]
          },
          "metadata": {}
        }
      ]
    },
    {
      "cell_type": "code",
      "source": [
        "# Import the pre-trained generator\n",
        "g = mostly.generators.import_from_file(\"1903-denmark-generator.zip\")"
      ],
      "metadata": {
        "colab": {
          "base_uri": "https://localhost:8080/",
          "height": 33
        },
        "id": "shOIlMOunQiV",
        "outputId": "44943388-3bf3-4840-bca7-27fa821d8de0"
      },
      "execution_count": 23,
      "outputs": [
        {
          "output_type": "display_data",
          "data": {
            "text/plain": [
              "Imported generator \u001b[38;5;27med5d293b-1e9e-404f-9f69-b6df96617857\u001b[0m\n"
            ],
            "text/html": [
              "<pre style=\"white-space:pre;overflow-x:auto;line-height:normal;font-family:Menlo,'DejaVu Sans Mono',consolas,'Courier New',monospace\">Imported generator <span style=\"color: #005fff; text-decoration-color: #005fff\">ed5d293b-1e9e-404f-9f69-b6df96617857</span>\n",
              "</pre>\n"
            ]
          },
          "metadata": {}
        }
      ]
    },
    {
      "cell_type": "markdown",
      "source": [
        "## Generate synthetic data"
      ],
      "metadata": {
        "id": "tXIEPth5vL5q"
      }
    },
    {
      "cell_type": "code",
      "source": [
        "sd = mostly.generate(g.id, size=1_000)\n",
        "samples = sd.data()"
      ],
      "metadata": {
        "colab": {
          "base_uri": "https://localhost:8080/",
          "height": 873,
          "referenced_widgets": [
            "69e6c375e2b44670bf77d4301c2fe7d5",
            "95b72562744d4184bfcac7a083117ba7"
          ]
        },
        "id": "ag8TmOq9uPn-",
        "outputId": "68a8f58c-e655-4648-dc3d-93ac22b8d17f"
      },
      "execution_count": 24,
      "outputs": [
        {
          "output_type": "display_data",
          "data": {
            "text/plain": [
              "Created synthetic dataset \u001b[38;5;27m74333e50-968e-41a9-8f70-c146019004a4\u001b[0m with generator \u001b[38;5;27med5d293b-1e9e-404f-9f69-b6df96617857\u001b[0m\n"
            ],
            "text/html": [
              "<pre style=\"white-space:pre;overflow-x:auto;line-height:normal;font-family:Menlo,'DejaVu Sans Mono',consolas,'Courier New',monospace\">Created synthetic dataset <span style=\"color: #005fff; text-decoration-color: #005fff\">74333e50-968e-41a9-8f70-c146019004a4</span> with generator <span style=\"color: #005fff; text-decoration-color: #005fff\">ed5d293b-1e9e-404f-9f69-b6df96617857</span>\n",
              "</pre>\n"
            ]
          },
          "metadata": {}
        },
        {
          "output_type": "display_data",
          "data": {
            "text/plain": [
              "Started synthetic dataset generation\n"
            ],
            "text/html": [
              "<pre style=\"white-space:pre;overflow-x:auto;line-height:normal;font-family:Menlo,'DejaVu Sans Mono',consolas,'Courier New',monospace\">Started synthetic dataset generation\n",
              "</pre>\n"
            ]
          },
          "metadata": {}
        },
        {
          "output_type": "display_data",
          "data": {
            "text/plain": [
              "Output()"
            ],
            "application/vnd.jupyter.widget-view+json": {
              "version_major": 2,
              "version_minor": 0,
              "model_id": "69e6c375e2b44670bf77d4301c2fe7d5"
            }
          },
          "metadata": {}
        },
        {
          "output_type": "display_data",
          "data": {
            "text/plain": [],
            "text/html": [
              "<pre style=\"white-space:pre;overflow-x:auto;line-height:normal;font-family:Menlo,'DejaVu Sans Mono',consolas,'Courier New',monospace\"></pre>\n"
            ]
          },
          "metadata": {}
        },
        {
          "output_type": "execute_result",
          "data": {
            "text/plain": [
              "{'trips':                                   TRIP_ID\n",
              " 0    mostly66-a0f8-407d-9da7-5b44e157f755\n",
              " 1    mostly36-c9f2-4dc6-88e3-9daee6aee52b\n",
              " 2    mostlyec-2af6-44f9-b5ea-02571e6147df\n",
              " 3    mostlyaa-f267-4a67-b14f-94ef73fd2471\n",
              " 4    mostly98-fc31-4300-941e-38d704d688a6\n",
              " ..                                    ...\n",
              " 995  mostly99-8e5a-4bf5-822d-d93be7771926\n",
              " 996  mostlyd2-8bea-4db7-a05c-06a07bcc3968\n",
              " 997  mostlyb4-6979-4a54-95af-32ddcb1cf474\n",
              " 998  mostly28-8712-43d0-8a0b-0af70b7eedb5\n",
              " 999  mostlyfd-4a6b-4bef-aa75-cbee025b5822\n",
              " \n",
              " [1000 rows x 1 columns],\n",
              " 'positions':                                  POSITION_ID  \\\n",
              " 0       mostly35-5c77-43c6-87b0-4ade731e4dcc   \n",
              " 1       mostly40-e216-4e76-9025-886b14f17613   \n",
              " 2       mostly55-59dd-46f5-b93f-5171c25d80f3   \n",
              " 3       mostlyb4-b305-4118-8410-a3d801684583   \n",
              " 4       mostly1d-4a78-43d1-b99d-f24082a50c08   \n",
              " ...                                      ...   \n",
              " 104377  mostlya6-2583-4491-a8d8-79952e02464d   \n",
              " 104378  mostly58-e07a-46b2-9454-14c1b676fd35   \n",
              " 104379  mostly5f-f09c-42b6-82ad-e0e4b0ea73cf   \n",
              " 104380  mostlyb8-b854-4f9f-aede-e9d74fe3a6be   \n",
              " 104381  mostly3b-e1ed-48c2-aeb6-7f33469401c1   \n",
              " \n",
              "                             POSITION_TRIP_ID            LAT_LONG  \n",
              " 0       mostly61-537d-4178-a415-71b03b3cbaa3  55.36993, 13.15557  \n",
              " 1       mostlyd0-3ed1-4b98-89ff-ded5ac304799  55.39254, 13.80353  \n",
              " 2       mostly99-8e5a-4bf5-822d-d93be7771926  55.42104, 13.82322  \n",
              " 3       mostly1d-750f-4d9f-8bb0-fbeecbc54bde  54.72843, 15.98128  \n",
              " 4       mostly0f-b0c0-4650-8a49-4e79caaf0894  54.80187, 13.85801  \n",
              " ...                                      ...                 ...  \n",
              " 104377  mostly09-0d8b-4a75-8560-6bdf76427a86  55.80667, 15.99083  \n",
              " 104378  mostlyd3-01c2-4577-9997-6e1904611899  54.64354, 14.05917  \n",
              " 104379  mostly15-7a95-4c5e-b731-e8a5faff8f1b  54.84025, 13.01446  \n",
              " 104380  mostly09-0d8b-4a75-8560-6bdf76427a86  55.81103, 16.00100  \n",
              " 104381  mostlyd3-01c2-4577-9997-6e1904611899  54.64199, 14.06972  \n",
              " \n",
              " [104382 rows x 3 columns]}"
            ]
          },
          "metadata": {},
          "execution_count": 24
        }
      ]
    },
    {
      "cell_type": "markdown",
      "source": [
        "## Post-process and export synthetic data"
      ],
      "metadata": {
        "id": "cSNco06rvSmU"
      }
    },
    {
      "cell_type": "code",
      "source": [
        "# Extract synthetic positions\n",
        "syn_positions = samples[\"positions\"]\n",
        "ps = pd.DataFrame(syn_positions)"
      ],
      "metadata": {
        "id": "_iWULBARq06f"
      },
      "execution_count": 26,
      "outputs": []
    },
    {
      "cell_type": "code",
      "source": [
        "# Splitting into latitude and longitude\n",
        "ps[['LATITUDE', 'LONGITUDE']] = ps['LAT_LONG'].str.split(', ', expand=True)\n",
        "\n",
        "# Convert to float\n",
        "ps['LATITUDE'] = ps['LATITUDE'].astype(float)\n",
        "ps['LONGITUDE'] = ps['LONGITUDE'].astype(float)\n",
        "\n",
        "ps.to_csv(\"denmark_synthetic_positions.csv\")\n",
        "ps"
      ],
      "metadata": {
        "colab": {
          "base_uri": "https://localhost:8080/",
          "height": 424
        },
        "id": "8iJ3VxgNukdm",
        "outputId": "f0db16c5-e452-4b27-f6c3-71f7132e895c"
      },
      "execution_count": 28,
      "outputs": [
        {
          "output_type": "execute_result",
          "data": {
            "text/plain": [
              "                                 POSITION_ID  \\\n",
              "0       mostly35-5c77-43c6-87b0-4ade731e4dcc   \n",
              "1       mostly40-e216-4e76-9025-886b14f17613   \n",
              "2       mostly55-59dd-46f5-b93f-5171c25d80f3   \n",
              "3       mostlyb4-b305-4118-8410-a3d801684583   \n",
              "4       mostly1d-4a78-43d1-b99d-f24082a50c08   \n",
              "...                                      ...   \n",
              "104377  mostlya6-2583-4491-a8d8-79952e02464d   \n",
              "104378  mostly58-e07a-46b2-9454-14c1b676fd35   \n",
              "104379  mostly5f-f09c-42b6-82ad-e0e4b0ea73cf   \n",
              "104380  mostlyb8-b854-4f9f-aede-e9d74fe3a6be   \n",
              "104381  mostly3b-e1ed-48c2-aeb6-7f33469401c1   \n",
              "\n",
              "                            POSITION_TRIP_ID            LAT_LONG  LATITUDE  \\\n",
              "0       mostly61-537d-4178-a415-71b03b3cbaa3  55.36993, 13.15557  55.36993   \n",
              "1       mostlyd0-3ed1-4b98-89ff-ded5ac304799  55.39254, 13.80353  55.39254   \n",
              "2       mostly99-8e5a-4bf5-822d-d93be7771926  55.42104, 13.82322  55.42104   \n",
              "3       mostly1d-750f-4d9f-8bb0-fbeecbc54bde  54.72843, 15.98128  54.72843   \n",
              "4       mostly0f-b0c0-4650-8a49-4e79caaf0894  54.80187, 13.85801  54.80187   \n",
              "...                                      ...                 ...       ...   \n",
              "104377  mostly09-0d8b-4a75-8560-6bdf76427a86  55.80667, 15.99083  55.80667   \n",
              "104378  mostlyd3-01c2-4577-9997-6e1904611899  54.64354, 14.05917  54.64354   \n",
              "104379  mostly15-7a95-4c5e-b731-e8a5faff8f1b  54.84025, 13.01446  54.84025   \n",
              "104380  mostly09-0d8b-4a75-8560-6bdf76427a86  55.81103, 16.00100  55.81103   \n",
              "104381  mostlyd3-01c2-4577-9997-6e1904611899  54.64199, 14.06972  54.64199   \n",
              "\n",
              "        LONGITUDE  \n",
              "0        13.15557  \n",
              "1        13.80353  \n",
              "2        13.82322  \n",
              "3        15.98128  \n",
              "4        13.85801  \n",
              "...           ...  \n",
              "104377   15.99083  \n",
              "104378   14.05917  \n",
              "104379   13.01446  \n",
              "104380   16.00100  \n",
              "104381   14.06972  \n",
              "\n",
              "[104382 rows x 5 columns]"
            ],
            "text/html": [
              "\n",
              "  <div id=\"df-cdfd2f76-decf-4432-9077-7d3f5afc8a0a\" class=\"colab-df-container\">\n",
              "    <div>\n",
              "<style scoped>\n",
              "    .dataframe tbody tr th:only-of-type {\n",
              "        vertical-align: middle;\n",
              "    }\n",
              "\n",
              "    .dataframe tbody tr th {\n",
              "        vertical-align: top;\n",
              "    }\n",
              "\n",
              "    .dataframe thead th {\n",
              "        text-align: right;\n",
              "    }\n",
              "</style>\n",
              "<table border=\"1\" class=\"dataframe\">\n",
              "  <thead>\n",
              "    <tr style=\"text-align: right;\">\n",
              "      <th></th>\n",
              "      <th>POSITION_ID</th>\n",
              "      <th>POSITION_TRIP_ID</th>\n",
              "      <th>LAT_LONG</th>\n",
              "      <th>LATITUDE</th>\n",
              "      <th>LONGITUDE</th>\n",
              "    </tr>\n",
              "  </thead>\n",
              "  <tbody>\n",
              "    <tr>\n",
              "      <th>0</th>\n",
              "      <td>mostly35-5c77-43c6-87b0-4ade731e4dcc</td>\n",
              "      <td>mostly61-537d-4178-a415-71b03b3cbaa3</td>\n",
              "      <td>55.36993, 13.15557</td>\n",
              "      <td>55.36993</td>\n",
              "      <td>13.15557</td>\n",
              "    </tr>\n",
              "    <tr>\n",
              "      <th>1</th>\n",
              "      <td>mostly40-e216-4e76-9025-886b14f17613</td>\n",
              "      <td>mostlyd0-3ed1-4b98-89ff-ded5ac304799</td>\n",
              "      <td>55.39254, 13.80353</td>\n",
              "      <td>55.39254</td>\n",
              "      <td>13.80353</td>\n",
              "    </tr>\n",
              "    <tr>\n",
              "      <th>2</th>\n",
              "      <td>mostly55-59dd-46f5-b93f-5171c25d80f3</td>\n",
              "      <td>mostly99-8e5a-4bf5-822d-d93be7771926</td>\n",
              "      <td>55.42104, 13.82322</td>\n",
              "      <td>55.42104</td>\n",
              "      <td>13.82322</td>\n",
              "    </tr>\n",
              "    <tr>\n",
              "      <th>3</th>\n",
              "      <td>mostlyb4-b305-4118-8410-a3d801684583</td>\n",
              "      <td>mostly1d-750f-4d9f-8bb0-fbeecbc54bde</td>\n",
              "      <td>54.72843, 15.98128</td>\n",
              "      <td>54.72843</td>\n",
              "      <td>15.98128</td>\n",
              "    </tr>\n",
              "    <tr>\n",
              "      <th>4</th>\n",
              "      <td>mostly1d-4a78-43d1-b99d-f24082a50c08</td>\n",
              "      <td>mostly0f-b0c0-4650-8a49-4e79caaf0894</td>\n",
              "      <td>54.80187, 13.85801</td>\n",
              "      <td>54.80187</td>\n",
              "      <td>13.85801</td>\n",
              "    </tr>\n",
              "    <tr>\n",
              "      <th>...</th>\n",
              "      <td>...</td>\n",
              "      <td>...</td>\n",
              "      <td>...</td>\n",
              "      <td>...</td>\n",
              "      <td>...</td>\n",
              "    </tr>\n",
              "    <tr>\n",
              "      <th>104377</th>\n",
              "      <td>mostlya6-2583-4491-a8d8-79952e02464d</td>\n",
              "      <td>mostly09-0d8b-4a75-8560-6bdf76427a86</td>\n",
              "      <td>55.80667, 15.99083</td>\n",
              "      <td>55.80667</td>\n",
              "      <td>15.99083</td>\n",
              "    </tr>\n",
              "    <tr>\n",
              "      <th>104378</th>\n",
              "      <td>mostly58-e07a-46b2-9454-14c1b676fd35</td>\n",
              "      <td>mostlyd3-01c2-4577-9997-6e1904611899</td>\n",
              "      <td>54.64354, 14.05917</td>\n",
              "      <td>54.64354</td>\n",
              "      <td>14.05917</td>\n",
              "    </tr>\n",
              "    <tr>\n",
              "      <th>104379</th>\n",
              "      <td>mostly5f-f09c-42b6-82ad-e0e4b0ea73cf</td>\n",
              "      <td>mostly15-7a95-4c5e-b731-e8a5faff8f1b</td>\n",
              "      <td>54.84025, 13.01446</td>\n",
              "      <td>54.84025</td>\n",
              "      <td>13.01446</td>\n",
              "    </tr>\n",
              "    <tr>\n",
              "      <th>104380</th>\n",
              "      <td>mostlyb8-b854-4f9f-aede-e9d74fe3a6be</td>\n",
              "      <td>mostly09-0d8b-4a75-8560-6bdf76427a86</td>\n",
              "      <td>55.81103, 16.00100</td>\n",
              "      <td>55.81103</td>\n",
              "      <td>16.00100</td>\n",
              "    </tr>\n",
              "    <tr>\n",
              "      <th>104381</th>\n",
              "      <td>mostly3b-e1ed-48c2-aeb6-7f33469401c1</td>\n",
              "      <td>mostlyd3-01c2-4577-9997-6e1904611899</td>\n",
              "      <td>54.64199, 14.06972</td>\n",
              "      <td>54.64199</td>\n",
              "      <td>14.06972</td>\n",
              "    </tr>\n",
              "  </tbody>\n",
              "</table>\n",
              "<p>104382 rows × 5 columns</p>\n",
              "</div>\n",
              "    <div class=\"colab-df-buttons\">\n",
              "\n",
              "  <div class=\"colab-df-container\">\n",
              "    <button class=\"colab-df-convert\" onclick=\"convertToInteractive('df-cdfd2f76-decf-4432-9077-7d3f5afc8a0a')\"\n",
              "            title=\"Convert this dataframe to an interactive table.\"\n",
              "            style=\"display:none;\">\n",
              "\n",
              "  <svg xmlns=\"http://www.w3.org/2000/svg\" height=\"24px\" viewBox=\"0 -960 960 960\">\n",
              "    <path d=\"M120-120v-720h720v720H120Zm60-500h600v-160H180v160Zm220 220h160v-160H400v160Zm0 220h160v-160H400v160ZM180-400h160v-160H180v160Zm440 0h160v-160H620v160ZM180-180h160v-160H180v160Zm440 0h160v-160H620v160Z\"/>\n",
              "  </svg>\n",
              "    </button>\n",
              "\n",
              "  <style>\n",
              "    .colab-df-container {\n",
              "      display:flex;\n",
              "      gap: 12px;\n",
              "    }\n",
              "\n",
              "    .colab-df-convert {\n",
              "      background-color: #E8F0FE;\n",
              "      border: none;\n",
              "      border-radius: 50%;\n",
              "      cursor: pointer;\n",
              "      display: none;\n",
              "      fill: #1967D2;\n",
              "      height: 32px;\n",
              "      padding: 0 0 0 0;\n",
              "      width: 32px;\n",
              "    }\n",
              "\n",
              "    .colab-df-convert:hover {\n",
              "      background-color: #E2EBFA;\n",
              "      box-shadow: 0px 1px 2px rgba(60, 64, 67, 0.3), 0px 1px 3px 1px rgba(60, 64, 67, 0.15);\n",
              "      fill: #174EA6;\n",
              "    }\n",
              "\n",
              "    .colab-df-buttons div {\n",
              "      margin-bottom: 4px;\n",
              "    }\n",
              "\n",
              "    [theme=dark] .colab-df-convert {\n",
              "      background-color: #3B4455;\n",
              "      fill: #D2E3FC;\n",
              "    }\n",
              "\n",
              "    [theme=dark] .colab-df-convert:hover {\n",
              "      background-color: #434B5C;\n",
              "      box-shadow: 0px 1px 3px 1px rgba(0, 0, 0, 0.15);\n",
              "      filter: drop-shadow(0px 1px 2px rgba(0, 0, 0, 0.3));\n",
              "      fill: #FFFFFF;\n",
              "    }\n",
              "  </style>\n",
              "\n",
              "    <script>\n",
              "      const buttonEl =\n",
              "        document.querySelector('#df-cdfd2f76-decf-4432-9077-7d3f5afc8a0a button.colab-df-convert');\n",
              "      buttonEl.style.display =\n",
              "        google.colab.kernel.accessAllowed ? 'block' : 'none';\n",
              "\n",
              "      async function convertToInteractive(key) {\n",
              "        const element = document.querySelector('#df-cdfd2f76-decf-4432-9077-7d3f5afc8a0a');\n",
              "        const dataTable =\n",
              "          await google.colab.kernel.invokeFunction('convertToInteractive',\n",
              "                                                    [key], {});\n",
              "        if (!dataTable) return;\n",
              "\n",
              "        const docLinkHtml = 'Like what you see? Visit the ' +\n",
              "          '<a target=\"_blank\" href=https://colab.research.google.com/notebooks/data_table.ipynb>data table notebook</a>'\n",
              "          + ' to learn more about interactive tables.';\n",
              "        element.innerHTML = '';\n",
              "        dataTable['output_type'] = 'display_data';\n",
              "        await google.colab.output.renderOutput(dataTable, element);\n",
              "        const docLink = document.createElement('div');\n",
              "        docLink.innerHTML = docLinkHtml;\n",
              "        element.appendChild(docLink);\n",
              "      }\n",
              "    </script>\n",
              "  </div>\n",
              "\n",
              "\n",
              "<div id=\"df-fca2955a-a430-4ed2-8c6f-afa689ce4a56\">\n",
              "  <button class=\"colab-df-quickchart\" onclick=\"quickchart('df-fca2955a-a430-4ed2-8c6f-afa689ce4a56')\"\n",
              "            title=\"Suggest charts\"\n",
              "            style=\"display:none;\">\n",
              "\n",
              "<svg xmlns=\"http://www.w3.org/2000/svg\" height=\"24px\"viewBox=\"0 0 24 24\"\n",
              "     width=\"24px\">\n",
              "    <g>\n",
              "        <path d=\"M19 3H5c-1.1 0-2 .9-2 2v14c0 1.1.9 2 2 2h14c1.1 0 2-.9 2-2V5c0-1.1-.9-2-2-2zM9 17H7v-7h2v7zm4 0h-2V7h2v10zm4 0h-2v-4h2v4z\"/>\n",
              "    </g>\n",
              "</svg>\n",
              "  </button>\n",
              "\n",
              "<style>\n",
              "  .colab-df-quickchart {\n",
              "      --bg-color: #E8F0FE;\n",
              "      --fill-color: #1967D2;\n",
              "      --hover-bg-color: #E2EBFA;\n",
              "      --hover-fill-color: #174EA6;\n",
              "      --disabled-fill-color: #AAA;\n",
              "      --disabled-bg-color: #DDD;\n",
              "  }\n",
              "\n",
              "  [theme=dark] .colab-df-quickchart {\n",
              "      --bg-color: #3B4455;\n",
              "      --fill-color: #D2E3FC;\n",
              "      --hover-bg-color: #434B5C;\n",
              "      --hover-fill-color: #FFFFFF;\n",
              "      --disabled-bg-color: #3B4455;\n",
              "      --disabled-fill-color: #666;\n",
              "  }\n",
              "\n",
              "  .colab-df-quickchart {\n",
              "    background-color: var(--bg-color);\n",
              "    border: none;\n",
              "    border-radius: 50%;\n",
              "    cursor: pointer;\n",
              "    display: none;\n",
              "    fill: var(--fill-color);\n",
              "    height: 32px;\n",
              "    padding: 0;\n",
              "    width: 32px;\n",
              "  }\n",
              "\n",
              "  .colab-df-quickchart:hover {\n",
              "    background-color: var(--hover-bg-color);\n",
              "    box-shadow: 0 1px 2px rgba(60, 64, 67, 0.3), 0 1px 3px 1px rgba(60, 64, 67, 0.15);\n",
              "    fill: var(--button-hover-fill-color);\n",
              "  }\n",
              "\n",
              "  .colab-df-quickchart-complete:disabled,\n",
              "  .colab-df-quickchart-complete:disabled:hover {\n",
              "    background-color: var(--disabled-bg-color);\n",
              "    fill: var(--disabled-fill-color);\n",
              "    box-shadow: none;\n",
              "  }\n",
              "\n",
              "  .colab-df-spinner {\n",
              "    border: 2px solid var(--fill-color);\n",
              "    border-color: transparent;\n",
              "    border-bottom-color: var(--fill-color);\n",
              "    animation:\n",
              "      spin 1s steps(1) infinite;\n",
              "  }\n",
              "\n",
              "  @keyframes spin {\n",
              "    0% {\n",
              "      border-color: transparent;\n",
              "      border-bottom-color: var(--fill-color);\n",
              "      border-left-color: var(--fill-color);\n",
              "    }\n",
              "    20% {\n",
              "      border-color: transparent;\n",
              "      border-left-color: var(--fill-color);\n",
              "      border-top-color: var(--fill-color);\n",
              "    }\n",
              "    30% {\n",
              "      border-color: transparent;\n",
              "      border-left-color: var(--fill-color);\n",
              "      border-top-color: var(--fill-color);\n",
              "      border-right-color: var(--fill-color);\n",
              "    }\n",
              "    40% {\n",
              "      border-color: transparent;\n",
              "      border-right-color: var(--fill-color);\n",
              "      border-top-color: var(--fill-color);\n",
              "    }\n",
              "    60% {\n",
              "      border-color: transparent;\n",
              "      border-right-color: var(--fill-color);\n",
              "    }\n",
              "    80% {\n",
              "      border-color: transparent;\n",
              "      border-right-color: var(--fill-color);\n",
              "      border-bottom-color: var(--fill-color);\n",
              "    }\n",
              "    90% {\n",
              "      border-color: transparent;\n",
              "      border-bottom-color: var(--fill-color);\n",
              "    }\n",
              "  }\n",
              "</style>\n",
              "\n",
              "  <script>\n",
              "    async function quickchart(key) {\n",
              "      const quickchartButtonEl =\n",
              "        document.querySelector('#' + key + ' button');\n",
              "      quickchartButtonEl.disabled = true;  // To prevent multiple clicks.\n",
              "      quickchartButtonEl.classList.add('colab-df-spinner');\n",
              "      try {\n",
              "        const charts = await google.colab.kernel.invokeFunction(\n",
              "            'suggestCharts', [key], {});\n",
              "      } catch (error) {\n",
              "        console.error('Error during call to suggestCharts:', error);\n",
              "      }\n",
              "      quickchartButtonEl.classList.remove('colab-df-spinner');\n",
              "      quickchartButtonEl.classList.add('colab-df-quickchart-complete');\n",
              "    }\n",
              "    (() => {\n",
              "      let quickchartButtonEl =\n",
              "        document.querySelector('#df-fca2955a-a430-4ed2-8c6f-afa689ce4a56 button');\n",
              "      quickchartButtonEl.style.display =\n",
              "        google.colab.kernel.accessAllowed ? 'block' : 'none';\n",
              "    })();\n",
              "  </script>\n",
              "</div>\n",
              "\n",
              "  <div id=\"id_19b41420-277d-40e4-99b1-27dbe2a2bce8\">\n",
              "    <style>\n",
              "      .colab-df-generate {\n",
              "        background-color: #E8F0FE;\n",
              "        border: none;\n",
              "        border-radius: 50%;\n",
              "        cursor: pointer;\n",
              "        display: none;\n",
              "        fill: #1967D2;\n",
              "        height: 32px;\n",
              "        padding: 0 0 0 0;\n",
              "        width: 32px;\n",
              "      }\n",
              "\n",
              "      .colab-df-generate:hover {\n",
              "        background-color: #E2EBFA;\n",
              "        box-shadow: 0px 1px 2px rgba(60, 64, 67, 0.3), 0px 1px 3px 1px rgba(60, 64, 67, 0.15);\n",
              "        fill: #174EA6;\n",
              "      }\n",
              "\n",
              "      [theme=dark] .colab-df-generate {\n",
              "        background-color: #3B4455;\n",
              "        fill: #D2E3FC;\n",
              "      }\n",
              "\n",
              "      [theme=dark] .colab-df-generate:hover {\n",
              "        background-color: #434B5C;\n",
              "        box-shadow: 0px 1px 3px 1px rgba(0, 0, 0, 0.15);\n",
              "        filter: drop-shadow(0px 1px 2px rgba(0, 0, 0, 0.3));\n",
              "        fill: #FFFFFF;\n",
              "      }\n",
              "    </style>\n",
              "    <button class=\"colab-df-generate\" onclick=\"generateWithVariable('ps')\"\n",
              "            title=\"Generate code using this dataframe.\"\n",
              "            style=\"display:none;\">\n",
              "\n",
              "  <svg xmlns=\"http://www.w3.org/2000/svg\" height=\"24px\"viewBox=\"0 0 24 24\"\n",
              "       width=\"24px\">\n",
              "    <path d=\"M7,19H8.4L18.45,9,17,7.55,7,17.6ZM5,21V16.75L18.45,3.32a2,2,0,0,1,2.83,0l1.4,1.43a1.91,1.91,0,0,1,.58,1.4,1.91,1.91,0,0,1-.58,1.4L9.25,21ZM18.45,9,17,7.55Zm-12,3A5.31,5.31,0,0,0,4.9,8.1,5.31,5.31,0,0,0,1,6.5,5.31,5.31,0,0,0,4.9,4.9,5.31,5.31,0,0,0,6.5,1,5.31,5.31,0,0,0,8.1,4.9,5.31,5.31,0,0,0,12,6.5,5.46,5.46,0,0,0,6.5,12Z\"/>\n",
              "  </svg>\n",
              "    </button>\n",
              "    <script>\n",
              "      (() => {\n",
              "      const buttonEl =\n",
              "        document.querySelector('#id_19b41420-277d-40e4-99b1-27dbe2a2bce8 button.colab-df-generate');\n",
              "      buttonEl.style.display =\n",
              "        google.colab.kernel.accessAllowed ? 'block' : 'none';\n",
              "\n",
              "      buttonEl.onclick = () => {\n",
              "        google.colab.notebook.generateWithVariable('ps');\n",
              "      }\n",
              "      })();\n",
              "    </script>\n",
              "  </div>\n",
              "\n",
              "    </div>\n",
              "  </div>\n"
            ],
            "application/vnd.google.colaboratory.intrinsic+json": {
              "type": "dataframe",
              "variable_name": "ps"
            }
          },
          "metadata": {},
          "execution_count": 28
        }
      ]
    },
    {
      "cell_type": "markdown",
      "source": [
        "## Visualize"
      ],
      "metadata": {
        "id": "FEy9l6SwvpXD"
      }
    },
    {
      "cell_type": "markdown",
      "source": [
        "**You can now download the `denmark_synthetic_positions.csv` file and import it into [Kepler.gl](https://kepler.gl/) to visualize the result.**"
      ],
      "metadata": {
        "id": "oB7g0d4xvZ5-"
      }
    }
  ]
}